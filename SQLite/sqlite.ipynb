{
 "cells": [
  {
   "cell_type": "markdown",
   "metadata": {},
   "source": [
    "<style>\n",
    "\tp {\n",
    "\t\tbackground-color: grey;\n",
    "\t\tcolor: white;\n",
    "\t\tborder: 3px solid grey\n",
    "\n",
    "\t}\n",
    "\tH2 {\n",
    "\t\t-- background-color: grey;\n",
    "\t\tcolor: Grey;\n",
    "\t\tborder: 5px solid White;\n",
    "\t\tpadding : 10px 5px;\n",
    "\n",
    "\t}\n",
    "</style>\n",
    "\n",
    "\n",
    "## Ipython-SQL"
   ]
  },
  {
   "cell_type": "code",
   "execution_count": 1,
   "metadata": {},
   "outputs": [
    {
     "data": {
      "application/json": {
       "cell": {
        "!": "OSMagics",
        "HTML": "Other",
        "SVG": "Other",
        "bash": "Other",
        "capture": "ExecutionMagics",
        "debug": "ExecutionMagics",
        "file": "Other",
        "html": "DisplayMagics",
        "javascript": "DisplayMagics",
        "js": "DisplayMagics",
        "latex": "DisplayMagics",
        "markdown": "DisplayMagics",
        "perl": "Other",
        "prun": "ExecutionMagics",
        "pypy": "Other",
        "python": "Other",
        "python2": "Other",
        "python3": "Other",
        "ruby": "Other",
        "script": "ScriptMagics",
        "sh": "Other",
        "svg": "DisplayMagics",
        "sx": "OSMagics",
        "system": "OSMagics",
        "time": "ExecutionMagics",
        "timeit": "ExecutionMagics",
        "writefile": "OSMagics"
       },
       "line": {
        "alias": "OSMagics",
        "alias_magic": "BasicMagics",
        "autoawait": "AsyncMagics",
        "autocall": "AutoMagics",
        "automagic": "AutoMagics",
        "autosave": "KernelMagics",
        "bookmark": "OSMagics",
        "cat": "Other",
        "cd": "OSMagics",
        "clear": "KernelMagics",
        "colors": "BasicMagics",
        "conda": "PackagingMagics",
        "config": "ConfigMagics",
        "connect_info": "KernelMagics",
        "cp": "Other",
        "debug": "ExecutionMagics",
        "dhist": "OSMagics",
        "dirs": "OSMagics",
        "doctest_mode": "BasicMagics",
        "ed": "Other",
        "edit": "KernelMagics",
        "env": "OSMagics",
        "gui": "BasicMagics",
        "hist": "Other",
        "history": "HistoryMagics",
        "killbgscripts": "ScriptMagics",
        "ldir": "Other",
        "less": "KernelMagics",
        "lf": "Other",
        "lk": "Other",
        "ll": "Other",
        "load": "CodeMagics",
        "load_ext": "ExtensionMagics",
        "loadpy": "CodeMagics",
        "logoff": "LoggingMagics",
        "logon": "LoggingMagics",
        "logstart": "LoggingMagics",
        "logstate": "LoggingMagics",
        "logstop": "LoggingMagics",
        "ls": "Other",
        "lsmagic": "BasicMagics",
        "lx": "Other",
        "macro": "ExecutionMagics",
        "magic": "BasicMagics",
        "man": "KernelMagics",
        "matplotlib": "PylabMagics",
        "mkdir": "Other",
        "more": "KernelMagics",
        "mv": "Other",
        "notebook": "BasicMagics",
        "page": "BasicMagics",
        "pastebin": "CodeMagics",
        "pdb": "ExecutionMagics",
        "pdef": "NamespaceMagics",
        "pdoc": "NamespaceMagics",
        "pfile": "NamespaceMagics",
        "pinfo": "NamespaceMagics",
        "pinfo2": "NamespaceMagics",
        "pip": "PackagingMagics",
        "popd": "OSMagics",
        "pprint": "BasicMagics",
        "precision": "BasicMagics",
        "prun": "ExecutionMagics",
        "psearch": "NamespaceMagics",
        "psource": "NamespaceMagics",
        "pushd": "OSMagics",
        "pwd": "OSMagics",
        "pycat": "OSMagics",
        "pylab": "PylabMagics",
        "qtconsole": "KernelMagics",
        "quickref": "BasicMagics",
        "recall": "HistoryMagics",
        "rehashx": "OSMagics",
        "reload_ext": "ExtensionMagics",
        "rep": "Other",
        "rerun": "HistoryMagics",
        "reset": "NamespaceMagics",
        "reset_selective": "NamespaceMagics",
        "rm": "Other",
        "rmdir": "Other",
        "run": "ExecutionMagics",
        "save": "CodeMagics",
        "sc": "OSMagics",
        "set_env": "OSMagics",
        "store": "StoreMagics",
        "sx": "OSMagics",
        "system": "OSMagics",
        "tb": "ExecutionMagics",
        "time": "ExecutionMagics",
        "timeit": "ExecutionMagics",
        "unalias": "OSMagics",
        "unload_ext": "ExtensionMagics",
        "who": "NamespaceMagics",
        "who_ls": "NamespaceMagics",
        "whos": "NamespaceMagics",
        "xdel": "NamespaceMagics",
        "xmode": "BasicMagics"
       }
      },
      "text/plain": [
       "Available line magics:\n",
       "%alias  %alias_magic  %autoawait  %autocall  %automagic  %autosave  %bookmark  %cat  %cd  %clear  %colors  %conda  %config  %connect_info  %cp  %debug  %dhist  %dirs  %doctest_mode  %ed  %edit  %env  %gui  %hist  %history  %killbgscripts  %ldir  %less  %lf  %lk  %ll  %load  %load_ext  %loadpy  %logoff  %logon  %logstart  %logstate  %logstop  %ls  %lsmagic  %lx  %macro  %magic  %man  %matplotlib  %mkdir  %more  %mv  %notebook  %page  %pastebin  %pdb  %pdef  %pdoc  %pfile  %pinfo  %pinfo2  %pip  %popd  %pprint  %precision  %prun  %psearch  %psource  %pushd  %pwd  %pycat  %pylab  %qtconsole  %quickref  %recall  %rehashx  %reload_ext  %rep  %rerun  %reset  %reset_selective  %rm  %rmdir  %run  %save  %sc  %set_env  %store  %sx  %system  %tb  %time  %timeit  %unalias  %unload_ext  %who  %who_ls  %whos  %xdel  %xmode\n",
       "\n",
       "Available cell magics:\n",
       "%%!  %%HTML  %%SVG  %%bash  %%capture  %%debug  %%file  %%html  %%javascript  %%js  %%latex  %%markdown  %%perl  %%prun  %%pypy  %%python  %%python2  %%python3  %%ruby  %%script  %%sh  %%svg  %%sx  %%system  %%time  %%timeit  %%writefile\n",
       "\n",
       "Automagic is ON, % prefix IS NOT needed for line magics."
      ]
     },
     "execution_count": 1,
     "metadata": {},
     "output_type": "execute_result"
    }
   ],
   "source": [
    "%lsmagic"
   ]
  },
  {
   "cell_type": "code",
   "execution_count": 1,
   "metadata": {},
   "outputs": [],
   "source": [
    "%load_ext sql"
   ]
  },
  {
   "cell_type": "code",
   "execution_count": 2,
   "metadata": {},
   "outputs": [
    {
     "data": {
      "text/plain": [
       "'Connected: @sample.db'"
      ]
     },
     "execution_count": 2,
     "metadata": {},
     "output_type": "execute_result"
    }
   ],
   "source": [
    "%sql sqlite:///sample.db\n"
   ]
  },
  {
   "cell_type": "code",
   "execution_count": 3,
   "metadata": {},
   "outputs": [
    {
     "name": "stdout",
     "output_type": "stream",
     "text": [
      " * sqlite:///sample.db\n",
      "Done.\n",
      "Done.\n",
      "Done.\n",
      "1 rows affected.\n",
      "1 rows affected.\n",
      "1 rows affected.\n",
      "1 rows affected.\n",
      "1 rows affected.\n",
      "1 rows affected.\n",
      "1 rows affected.\n",
      "1 rows affected.\n",
      "1 rows affected.\n",
      "1 rows affected.\n",
      "1 rows affected.\n",
      "1 rows affected.\n",
      "1 rows affected.\n",
      "1 rows affected.\n",
      "1 rows affected.\n",
      "1 rows affected.\n",
      "1 rows affected.\n",
      "1 rows affected.\n",
      "1 rows affected.\n",
      "1 rows affected.\n",
      "1 rows affected.\n",
      "1 rows affected.\n"
     ]
    },
    {
     "data": {
      "text/plain": [
       "[]"
      ]
     },
     "execution_count": 3,
     "metadata": {},
     "output_type": "execute_result"
    }
   ],
   "source": [
    "%%sql \n",
    "create table student (\n",
    "        sid smallint constraint const_student_pk PRIMARY KEY,\n",
    "        sname char(20) NULL,\n",
    "        major varchar(30) NULL,\n",
    "        gradelevel char(2)\n",
    "        constraint const_student_gr check ( gradelevel in ('GR', 'SO', 'GR', 'SN', 'JR', 'FR')),\n",
    "        Age smallint NULL\n",
    "        constraint const_student_age check ( age > 0 )\n",
    ") ;\n",
    "\n",
    "\n",
    "create table class (\n",
    "        cname char(5),\n",
    "        time varchar(7),\n",
    "        room char(5),\n",
    "        constraint const_class_pk primary key (cname)\n",
    "        );\n",
    "\n",
    "create table enrollment (\n",
    "        studentnumber smallint,\n",
    "        classname char(5),\n",
    "        positionnumber smallint,\n",
    "        constraint const_enroll_pk primary key (studentnumber, classname),\n",
    "        constraint const_enroll_fk_snum foreign key (studentnumber) references student(sid),\n",
    "        constraint const_enroll_fk_cname foreign key (classname) references class(cname)\n",
    ");\n",
    "\n",
    "\n",
    "insert into student values ( 100, 'JONES', 'HISTORY', 'GR', 21);\n",
    "insert into student values ( 150, 'PARKS', 'ACCOUNTING', 'SO', 19);\n",
    "insert into student values ( 200, 'BAKER', 'MATH', 'GR', 50);\n",
    "insert into student values ( 250, 'GLASS', 'HISTORY', 'SN', 50);\n",
    "insert into student values ( 300, 'BAKER', 'ACCOUNTING', 'SN', 41);\n",
    "insert into student values ( 350, 'RUSSEL', 'MATH', 'JR', 20);\n",
    "insert into student values ( 400, 'RYE', 'ACCOUNTING', 'FR', 18);\n",
    "insert into student values ( 450, 'JONES', 'HISTORY', 'SN', 24);\n",
    "\n",
    "insert into class values ( 'BA200', 'M-F9', 'SC110');\n",
    "insert into class values ( 'BD445', 'MWF3', 'SC213');\n",
    "insert into class values ( 'BF410', 'MWF8', 'SC213');\n",
    "insert into class values ( 'CS150', 'MWF3', 'EA304');\n",
    "insert into class values ( 'CS250', 'MWF12', 'EB210');\n",
    "\n",
    "insert into enrollment values (100, 'BD445', 1);\n",
    "insert into enrollment values (150, 'BA200', 1);\n",
    "insert into enrollment values (200, 'BD445', 2);\n",
    "insert into enrollment values (200, 'CS250', 1);\n",
    "insert into enrollment values (300, 'CS150', 1);\n",
    "insert into enrollment values (400, 'BA200', 2);\n",
    "insert into enrollment values (400, 'BF410', 1);\n",
    "insert into enrollment values (400, 'CS250', 2);\n",
    "insert into enrollment values (450, 'BA200', 3);\n"
   ]
  },
  {
   "cell_type": "code",
   "execution_count": 4,
   "metadata": {},
   "outputs": [
    {
     "name": "stdout",
     "output_type": "stream",
     "text": [
      " * sqlite:///sample.db\n",
      "Done.\n"
     ]
    },
    {
     "data": {
      "text/html": [
       "<table>\n",
       "    <thead>\n",
       "        <tr>\n",
       "            <th>sid</th>\n",
       "            <th>sname</th>\n",
       "            <th>major</th>\n",
       "            <th>gradelevel</th>\n",
       "            <th>Age</th>\n",
       "        </tr>\n",
       "    </thead>\n",
       "    <tbody>\n",
       "        <tr>\n",
       "            <td>100</td>\n",
       "            <td>JONES</td>\n",
       "            <td>HISTORY</td>\n",
       "            <td>GR</td>\n",
       "            <td>21</td>\n",
       "        </tr>\n",
       "        <tr>\n",
       "            <td>150</td>\n",
       "            <td>PARKS</td>\n",
       "            <td>ACCOUNTING</td>\n",
       "            <td>SO</td>\n",
       "            <td>19</td>\n",
       "        </tr>\n",
       "        <tr>\n",
       "            <td>200</td>\n",
       "            <td>BAKER</td>\n",
       "            <td>MATH</td>\n",
       "            <td>GR</td>\n",
       "            <td>50</td>\n",
       "        </tr>\n",
       "        <tr>\n",
       "            <td>250</td>\n",
       "            <td>GLASS</td>\n",
       "            <td>HISTORY</td>\n",
       "            <td>SN</td>\n",
       "            <td>50</td>\n",
       "        </tr>\n",
       "        <tr>\n",
       "            <td>300</td>\n",
       "            <td>BAKER</td>\n",
       "            <td>ACCOUNTING</td>\n",
       "            <td>SN</td>\n",
       "            <td>41</td>\n",
       "        </tr>\n",
       "        <tr>\n",
       "            <td>350</td>\n",
       "            <td>RUSSEL</td>\n",
       "            <td>MATH</td>\n",
       "            <td>JR</td>\n",
       "            <td>20</td>\n",
       "        </tr>\n",
       "        <tr>\n",
       "            <td>400</td>\n",
       "            <td>RYE</td>\n",
       "            <td>ACCOUNTING</td>\n",
       "            <td>FR</td>\n",
       "            <td>18</td>\n",
       "        </tr>\n",
       "        <tr>\n",
       "            <td>450</td>\n",
       "            <td>JONES</td>\n",
       "            <td>HISTORY</td>\n",
       "            <td>SN</td>\n",
       "            <td>24</td>\n",
       "        </tr>\n",
       "    </tbody>\n",
       "</table>"
      ],
      "text/plain": [
       "[(100, 'JONES', 'HISTORY', 'GR', 21),\n",
       " (150, 'PARKS', 'ACCOUNTING', 'SO', 19),\n",
       " (200, 'BAKER', 'MATH', 'GR', 50),\n",
       " (250, 'GLASS', 'HISTORY', 'SN', 50),\n",
       " (300, 'BAKER', 'ACCOUNTING', 'SN', 41),\n",
       " (350, 'RUSSEL', 'MATH', 'JR', 20),\n",
       " (400, 'RYE', 'ACCOUNTING', 'FR', 18),\n",
       " (450, 'JONES', 'HISTORY', 'SN', 24)]"
      ]
     },
     "execution_count": 4,
     "metadata": {},
     "output_type": "execute_result"
    }
   ],
   "source": [
    "%sql select * from student;"
   ]
  },
  {
   "cell_type": "code",
   "execution_count": 5,
   "metadata": {},
   "outputs": [],
   "source": [
    "result = _"
   ]
  },
  {
   "cell_type": "code",
   "execution_count": 7,
   "metadata": {},
   "outputs": [
    {
     "data": {
      "text/html": [
       "<table>\n",
       "    <thead>\n",
       "        <tr>\n",
       "            <th>sid</th>\n",
       "            <th>sname</th>\n",
       "            <th>major</th>\n",
       "            <th>gradelevel</th>\n",
       "            <th>Age</th>\n",
       "        </tr>\n",
       "    </thead>\n",
       "    <tbody>\n",
       "        <tr>\n",
       "            <td>100</td>\n",
       "            <td>JONES</td>\n",
       "            <td>HISTORY</td>\n",
       "            <td>GR</td>\n",
       "            <td>21</td>\n",
       "        </tr>\n",
       "        <tr>\n",
       "            <td>150</td>\n",
       "            <td>PARKS</td>\n",
       "            <td>ACCOUNTING</td>\n",
       "            <td>SO</td>\n",
       "            <td>19</td>\n",
       "        </tr>\n",
       "        <tr>\n",
       "            <td>200</td>\n",
       "            <td>BAKER</td>\n",
       "            <td>MATH</td>\n",
       "            <td>GR</td>\n",
       "            <td>50</td>\n",
       "        </tr>\n",
       "        <tr>\n",
       "            <td>250</td>\n",
       "            <td>GLASS</td>\n",
       "            <td>HISTORY</td>\n",
       "            <td>SN</td>\n",
       "            <td>50</td>\n",
       "        </tr>\n",
       "        <tr>\n",
       "            <td>300</td>\n",
       "            <td>BAKER</td>\n",
       "            <td>ACCOUNTING</td>\n",
       "            <td>SN</td>\n",
       "            <td>41</td>\n",
       "        </tr>\n",
       "        <tr>\n",
       "            <td>350</td>\n",
       "            <td>RUSSEL</td>\n",
       "            <td>MATH</td>\n",
       "            <td>JR</td>\n",
       "            <td>20</td>\n",
       "        </tr>\n",
       "        <tr>\n",
       "            <td>400</td>\n",
       "            <td>RYE</td>\n",
       "            <td>ACCOUNTING</td>\n",
       "            <td>FR</td>\n",
       "            <td>18</td>\n",
       "        </tr>\n",
       "        <tr>\n",
       "            <td>450</td>\n",
       "            <td>JONES</td>\n",
       "            <td>HISTORY</td>\n",
       "            <td>SN</td>\n",
       "            <td>24</td>\n",
       "        </tr>\n",
       "    </tbody>\n",
       "</table>"
      ],
      "text/plain": [
       "[(100, 'JONES', 'HISTORY', 'GR', 21),\n",
       " (150, 'PARKS', 'ACCOUNTING', 'SO', 19),\n",
       " (200, 'BAKER', 'MATH', 'GR', 50),\n",
       " (250, 'GLASS', 'HISTORY', 'SN', 50),\n",
       " (300, 'BAKER', 'ACCOUNTING', 'SN', 41),\n",
       " (350, 'RUSSEL', 'MATH', 'JR', 20),\n",
       " (400, 'RYE', 'ACCOUNTING', 'FR', 18),\n",
       " (450, 'JONES', 'HISTORY', 'SN', 24)]"
      ]
     },
     "execution_count": 7,
     "metadata": {},
     "output_type": "execute_result"
    }
   ],
   "source": [
    "result"
   ]
  },
  {
   "cell_type": "code",
   "execution_count": 8,
   "metadata": {},
   "outputs": [
    {
     "name": "stdout",
     "output_type": "stream",
     "text": [
      "\u001b[0;31mType:\u001b[0m        ResultSet\n",
      "\u001b[0;31mString form:\u001b[0m\n",
      "+-----+--------+------------+------------+-----+\n",
      "           | sid | sname  |   major    | gradelevel | Age | <...> | 450 | JONES  |  HISTORY   |     SN     |  24 |\n",
      "           +-----+--------+------------+------------+-----+\n",
      "\u001b[0;31mLength:\u001b[0m      8\n",
      "\u001b[0;31mFile:\u001b[0m        ~/opt/anaconda3/lib/python3.9/site-packages/sql/run.py\n",
      "\u001b[0;31mDocstring:\u001b[0m  \n",
      "Results of a SQL query.\n",
      "\n",
      "Can access rows listwise, or by string value of leftmost column.\n"
     ]
    }
   ],
   "source": [
    "result?"
   ]
  },
  {
   "cell_type": "code",
   "execution_count": 10,
   "metadata": {},
   "outputs": [
    {
     "name": "stdout",
     "output_type": "stream",
     "text": [
      " * sqlite:///sample.db\n",
      "Done.\n",
      "Done.\n"
     ]
    },
    {
     "data": {
      "text/html": [
       "<table>\n",
       "    <thead>\n",
       "        <tr>\n",
       "            <th>cname</th>\n",
       "            <th>time</th>\n",
       "            <th>room</th>\n",
       "        </tr>\n",
       "    </thead>\n",
       "    <tbody>\n",
       "        <tr>\n",
       "            <td>BA200</td>\n",
       "            <td>M-F9</td>\n",
       "            <td>SC110</td>\n",
       "        </tr>\n",
       "        <tr>\n",
       "            <td>BD445</td>\n",
       "            <td>MWF3</td>\n",
       "            <td>SC213</td>\n",
       "        </tr>\n",
       "        <tr>\n",
       "            <td>BF410</td>\n",
       "            <td>MWF8</td>\n",
       "            <td>SC213</td>\n",
       "        </tr>\n",
       "        <tr>\n",
       "            <td>CS150</td>\n",
       "            <td>MWF3</td>\n",
       "            <td>EA304</td>\n",
       "        </tr>\n",
       "        <tr>\n",
       "            <td>CS250</td>\n",
       "            <td>MWF12</td>\n",
       "            <td>EB210</td>\n",
       "        </tr>\n",
       "    </tbody>\n",
       "</table>"
      ],
      "text/plain": [
       "[('BA200', 'M-F9', 'SC110'),\n",
       " ('BD445', 'MWF3', 'SC213'),\n",
       " ('BF410', 'MWF8', 'SC213'),\n",
       " ('CS150', 'MWF3', 'EA304'),\n",
       " ('CS250', 'MWF12', 'EB210')]"
      ]
     },
     "execution_count": 10,
     "metadata": {},
     "output_type": "execute_result"
    }
   ],
   "source": [
    "%%sql\n",
    "select * from student;\n",
    "select * from class;\n"
   ]
  },
  {
   "cell_type": "code",
   "execution_count": 11,
   "metadata": {},
   "outputs": [
    {
     "name": "stdout",
     "output_type": "stream",
     "text": [
      " * sqlite:///sample.db\n",
      "Done.\n"
     ]
    }
   ],
   "source": [
    "result = %sql select * from student;\n"
   ]
  },
  {
   "cell_type": "code",
   "execution_count": 12,
   "metadata": {},
   "outputs": [
    {
     "name": "stdout",
     "output_type": "stream",
     "text": [
      "+-----+--------+------------+------------+-----+\n",
      "| sid | sname  |   major    | gradelevel | Age |\n",
      "+-----+--------+------------+------------+-----+\n",
      "| 100 | JONES  |  HISTORY   |     GR     |  21 |\n",
      "| 150 | PARKS  | ACCOUNTING |     SO     |  19 |\n",
      "| 200 | BAKER  |    MATH    |     GR     |  50 |\n",
      "| 250 | GLASS  |  HISTORY   |     SN     |  50 |\n",
      "| 300 | BAKER  | ACCOUNTING |     SN     |  41 |\n",
      "| 350 | RUSSEL |    MATH    |     JR     |  20 |\n",
      "| 400 |  RYE   | ACCOUNTING |     FR     |  18 |\n",
      "| 450 | JONES  |  HISTORY   |     SN     |  24 |\n",
      "+-----+--------+------------+------------+-----+\n"
     ]
    }
   ],
   "source": [
    "print (result)"
   ]
  },
  {
   "cell_type": "code",
   "execution_count": 16,
   "metadata": {},
   "outputs": [
    {
     "name": "stdout",
     "output_type": "stream",
     "text": [
      " * sqlite:///sample.db\n",
      "Done.\n",
      "Returning data to local variable studentsResult\n"
     ]
    }
   ],
   "source": [
    "%%sql \n",
    "studentsResult << select sname, major\n",
    "\t\t from student \n",
    "\t\t where Age > 40;\n"
   ]
  },
  {
   "cell_type": "code",
   "execution_count": 17,
   "metadata": {},
   "outputs": [
    {
     "name": "stdout",
     "output_type": "stream",
     "text": [
      "+-------+------------+\n",
      "| sname |   major    |\n",
      "+-------+------------+\n",
      "| BAKER |    MATH    |\n",
      "| GLASS |  HISTORY   |\n",
      "| BAKER | ACCOUNTING |\n",
      "+-------+------------+\n"
     ]
    }
   ],
   "source": [
    "print (studentsResult)"
   ]
  },
  {
   "cell_type": "markdown",
   "metadata": {},
   "source": [
    "### Bind Variable"
   ]
  },
  {
   "cell_type": "code",
   "execution_count": 23,
   "metadata": {},
   "outputs": [],
   "source": [
    "name = 'BAKER'"
   ]
  },
  {
   "cell_type": "code",
   "execution_count": 25,
   "metadata": {},
   "outputs": [
    {
     "name": "stdout",
     "output_type": "stream",
     "text": [
      " * sqlite:///sample.db\n",
      "Done.\n"
     ]
    },
    {
     "data": {
      "text/html": [
       "<table>\n",
       "    <thead>\n",
       "        <tr>\n",
       "            <th>sid</th>\n",
       "            <th>sname</th>\n",
       "            <th>major</th>\n",
       "            <th>gradelevel</th>\n",
       "            <th>Age</th>\n",
       "        </tr>\n",
       "    </thead>\n",
       "    <tbody>\n",
       "        <tr>\n",
       "            <td>200</td>\n",
       "            <td>BAKER</td>\n",
       "            <td>MATH</td>\n",
       "            <td>GR</td>\n",
       "            <td>50</td>\n",
       "        </tr>\n",
       "        <tr>\n",
       "            <td>300</td>\n",
       "            <td>BAKER</td>\n",
       "            <td>ACCOUNTING</td>\n",
       "            <td>SN</td>\n",
       "            <td>41</td>\n",
       "        </tr>\n",
       "    </tbody>\n",
       "</table>"
      ],
      "text/plain": [
       "[(200, 'BAKER', 'MATH', 'GR', 50), (300, 'BAKER', 'ACCOUNTING', 'SN', 41)]"
      ]
     },
     "execution_count": 25,
     "metadata": {},
     "output_type": "execute_result"
    }
   ],
   "source": [
    "%%sql\n",
    "\tselect \t* \n",
    "\tfrom \tstudent\n",
    "\twhere \tsname = :name;"
   ]
  },
  {
   "cell_type": "markdown",
   "metadata": {},
   "source": [
    "### Matplotlib"
   ]
  },
  {
   "cell_type": "code",
   "execution_count": 26,
   "metadata": {},
   "outputs": [
    {
     "name": "stdout",
     "output_type": "stream",
     "text": [
      " * sqlite:///sample.db\n",
      "Done.\n"
     ]
    },
    {
     "data": {
      "text/plain": [
       "<BarContainer object of 8 artists>"
      ]
     },
     "execution_count": 26,
     "metadata": {},
     "output_type": "execute_result"
    },
    {
     "data": {
      "image/png": "[encoded data removed]",
      "text/plain": [
       "<Figure size 432x288 with 1 Axes>"
      ]
     },
     "metadata": {
      "needs_background": "light"
     },
     "output_type": "display_data"
    }
   ],
   "source": [
    "result = %sql  select sname, age from student;\n",
    "\n",
    "result.bar()"
   ]
  },
  {
   "cell_type": "markdown",
   "metadata": {},
   "source": [
    "### Dumping output to CSV file"
   ]
  },
  {
   "cell_type": "code",
   "execution_count": 40,
   "metadata": {},
   "outputs": [
    {
     "name": "stdout",
     "output_type": "stream",
     "text": [
      " * sqlite:///sample.db\n",
      "Done.\n"
     ]
    }
   ],
   "source": [
    "result = %sql select * from student"
   ]
  },
  {
   "cell_type": "code",
   "execution_count": 29,
   "metadata": {},
   "outputs": [
    {
     "data": {
      "text/html": [
       "<a href=\"./files/result.csv\">CSV results</a>"
      ],
      "text/plain": [
       "CSV results at /Volumes/GoogleDrive/My Drive/LPC/CS07/SQLite/result.csv"
      ]
     },
     "execution_count": 29,
     "metadata": {},
     "output_type": "execute_result"
    }
   ],
   "source": [
    "result.csv(filename='result.csv')"
   ]
  },
  {
   "cell_type": "markdown",
   "metadata": {},
   "source": [
    "<style>\n",
    "\tp {\n",
    "\t\tbackground-color: grey;\n",
    "\t\tcolor: white;\n",
    "\t\tborder: 3px solid grey\n",
    "\n",
    "\t}\n",
    "\tH2 {\n",
    "\t\t-- background-color: grey;\n",
    "\t\tcolor: Grey;\n",
    "\t\tborder: 5px solid White;\n",
    "\t\tpadding : 10px 5px;\n",
    "\n",
    "\t}\n",
    "</style>\n",
    "<h2> DB-API 2.0 interface for SQLite databases </h2>"
   ]
  },
  {
   "cell_type": "code",
   "execution_count": 30,
   "metadata": {},
   "outputs": [],
   "source": [
    "import sqlite3\n",
    "con = sqlite3.connect('sample.db')"
   ]
  },
  {
   "cell_type": "code",
   "execution_count": 31,
   "metadata": {},
   "outputs": [],
   "source": [
    "csr = con.cursor()"
   ]
  },
  {
   "cell_type": "code",
   "execution_count": 33,
   "metadata": {},
   "outputs": [
    {
     "data": {
      "text/plain": [
       "<sqlite3.Cursor at 0x7fa3f8f043b0>"
      ]
     },
     "execution_count": 33,
     "metadata": {},
     "output_type": "execute_result"
    }
   ],
   "source": [
    "sql_stmt = 'select * from student'\n",
    "csr.execute(sql_stmt)"
   ]
  },
  {
   "cell_type": "code",
   "execution_count": 34,
   "metadata": {},
   "outputs": [
    {
     "name": "stdout",
     "output_type": "stream",
     "text": [
      "\u001b[0;31mType:\u001b[0m        tuple\n",
      "\u001b[0;31mString form:\u001b[0m (100, 'JONES', 'HISTORY', 'GR', 21)\n",
      "\u001b[0;31mLength:\u001b[0m      5\n",
      "\u001b[0;31mDocstring:\u001b[0m  \n",
      "Built-in immutable sequence.\n",
      "\n",
      "If no argument is given, the constructor returns an empty tuple.\n",
      "If iterable is specified the tuple is initialized from iterable's items.\n",
      "\n",
      "If the argument is a tuple, the return value is the same object.\n"
     ]
    }
   ],
   "source": [
    "res = csr.fetchone()\n",
    "res?"
   ]
  },
  {
   "cell_type": "code",
   "execution_count": 35,
   "metadata": {},
   "outputs": [
    {
     "name": "stdout",
     "output_type": "stream",
     "text": [
      "\u001b[0;31mType:\u001b[0m        list\n",
      "\u001b[0;31mString form:\u001b[0m [(150, 'PARKS', 'ACCOUNTING', 'SO', 19), (200, 'BAKER', 'MATH', 'GR', 50), (250, 'GLASS', 'HISTOR <...> L', 'MATH', 'JR', 20), (400, 'RYE', 'ACCOUNTING', 'FR', 18), (450, 'JONES', 'HISTORY', 'SN', 24)]\n",
      "\u001b[0;31mLength:\u001b[0m      7\n",
      "\u001b[0;31mDocstring:\u001b[0m  \n",
      "Built-in mutable sequence.\n",
      "\n",
      "If no argument is given, the constructor creates a new empty list.\n",
      "The argument must be an iterable if specified.\n"
     ]
    }
   ],
   "source": [
    "res = csr.fetchall()\n",
    "res?"
   ]
  },
  {
   "cell_type": "code",
   "execution_count": 38,
   "metadata": {},
   "outputs": [
    {
     "name": "stdout",
     "output_type": "stream",
     "text": [
      "150 PARKS\n",
      "200 BAKER\n",
      "250 GLASS\n",
      "300 BAKER\n",
      "350 RUSSEL\n",
      "400 RYE\n",
      "450 JONES\n"
     ]
    }
   ],
   "source": [
    "for ID, name, *others in res:\n",
    "\tprint (ID, name)"
   ]
  },
  {
   "cell_type": "code",
   "execution_count": 37,
   "metadata": {},
   "outputs": [
    {
     "name": "stdout",
     "output_type": "stream",
     "text": [
      "(450, 'JONES', 'HISTORY', 'SN', 24)\n"
     ]
    }
   ],
   "source": [
    "print (res[len(res)-1])"
   ]
  },
  {
   "cell_type": "markdown",
   "metadata": {},
   "source": [
    "<style>\n",
    "\tp {\n",
    "\t\tbackground-color: grey;\n",
    "\t\tcolor: white;\n",
    "\t\tborder: 3px solid grey\n",
    "\n",
    "\t}\n",
    "\tH2 {\n",
    "\t\t-- background-color: grey;\n",
    "\t\tcolor: Grey;\n",
    "\t\tborder: 5px solid White;\n",
    "\t\tpadding : 10px 5px;\n",
    "\n",
    "\t}\n",
    "</style>\n",
    "<h2> SQL Results to Data Frame</h2>\n"
   ]
  },
  {
   "cell_type": "code",
   "execution_count": 42,
   "metadata": {},
   "outputs": [
    {
     "name": "stdout",
     "output_type": "stream",
     "text": [
      " * sqlite:///sample.db\n",
      "Done.\n"
     ]
    }
   ],
   "source": [
    "res = %sql select * from student\n",
    "df = res.DataFrame()"
   ]
  },
  {
   "cell_type": "code",
   "execution_count": 43,
   "metadata": {},
   "outputs": [
    {
     "data": {
      "text/html": [
       "<div>\n",
       "<style scoped>\n",
       "    .dataframe tbody tr th:only-of-type {\n",
       "        vertical-align: middle;\n",
       "    }\n",
       "\n",
       "    .dataframe tbody tr th {\n",
       "        vertical-align: top;\n",
       "    }\n",
       "\n",
       "    .dataframe thead th {\n",
       "        text-align: right;\n",
       "    }\n",
       "</style>\n",
       "<table border=\"1\" class=\"dataframe\">\n",
       "  <thead>\n",
       "    <tr style=\"text-align: right;\">\n",
       "      <th></th>\n",
       "      <th>sid</th>\n",
       "      <th>sname</th>\n",
       "      <th>major</th>\n",
       "      <th>gradelevel</th>\n",
       "      <th>Age</th>\n",
       "    </tr>\n",
       "  </thead>\n",
       "  <tbody>\n",
       "    <tr>\n",
       "      <th>0</th>\n",
       "      <td>100</td>\n",
       "      <td>JONES</td>\n",
       "      <td>HISTORY</td>\n",
       "      <td>GR</td>\n",
       "      <td>21</td>\n",
       "    </tr>\n",
       "    <tr>\n",
       "      <th>1</th>\n",
       "      <td>150</td>\n",
       "      <td>PARKS</td>\n",
       "      <td>ACCOUNTING</td>\n",
       "      <td>SO</td>\n",
       "      <td>19</td>\n",
       "    </tr>\n",
       "    <tr>\n",
       "      <th>2</th>\n",
       "      <td>200</td>\n",
       "      <td>BAKER</td>\n",
       "      <td>MATH</td>\n",
       "      <td>GR</td>\n",
       "      <td>50</td>\n",
       "    </tr>\n",
       "    <tr>\n",
       "      <th>3</th>\n",
       "      <td>250</td>\n",
       "      <td>GLASS</td>\n",
       "      <td>HISTORY</td>\n",
       "      <td>SN</td>\n",
       "      <td>50</td>\n",
       "    </tr>\n",
       "    <tr>\n",
       "      <th>4</th>\n",
       "      <td>300</td>\n",
       "      <td>BAKER</td>\n",
       "      <td>ACCOUNTING</td>\n",
       "      <td>SN</td>\n",
       "      <td>41</td>\n",
       "    </tr>\n",
       "    <tr>\n",
       "      <th>5</th>\n",
       "      <td>350</td>\n",
       "      <td>RUSSEL</td>\n",
       "      <td>MATH</td>\n",
       "      <td>JR</td>\n",
       "      <td>20</td>\n",
       "    </tr>\n",
       "    <tr>\n",
       "      <th>6</th>\n",
       "      <td>400</td>\n",
       "      <td>RYE</td>\n",
       "      <td>ACCOUNTING</td>\n",
       "      <td>FR</td>\n",
       "      <td>18</td>\n",
       "    </tr>\n",
       "    <tr>\n",
       "      <th>7</th>\n",
       "      <td>450</td>\n",
       "      <td>JONES</td>\n",
       "      <td>HISTORY</td>\n",
       "      <td>SN</td>\n",
       "      <td>24</td>\n",
       "    </tr>\n",
       "  </tbody>\n",
       "</table>\n",
       "</div>"
      ],
      "text/plain": [
       "   sid   sname       major gradelevel  Age\n",
       "0  100   JONES     HISTORY         GR   21\n",
       "1  150   PARKS  ACCOUNTING         SO   19\n",
       "2  200   BAKER        MATH         GR   50\n",
       "3  250   GLASS     HISTORY         SN   50\n",
       "4  300   BAKER  ACCOUNTING         SN   41\n",
       "5  350  RUSSEL        MATH         JR   20\n",
       "6  400     RYE  ACCOUNTING         FR   18\n",
       "7  450   JONES     HISTORY         SN   24"
      ]
     },
     "execution_count": 43,
     "metadata": {},
     "output_type": "execute_result"
    }
   ],
   "source": [
    "df"
   ]
  },
  {
   "cell_type": "code",
   "execution_count": 44,
   "metadata": {},
   "outputs": [
    {
     "data": {
      "text/plain": [
       "RangeIndex(start=0, stop=8, step=1)"
      ]
     },
     "execution_count": 44,
     "metadata": {},
     "output_type": "execute_result"
    }
   ],
   "source": [
    "df.index"
   ]
  },
  {
   "cell_type": "code",
   "execution_count": 45,
   "metadata": {},
   "outputs": [
    {
     "data": {
      "text/plain": [
       "Index(['sid', 'sname', 'major', 'gradelevel', 'Age'], dtype='object')"
      ]
     },
     "execution_count": 45,
     "metadata": {},
     "output_type": "execute_result"
    }
   ],
   "source": [
    "df.columns"
   ]
  },
  {
   "cell_type": "code",
   "execution_count": 46,
   "metadata": {},
   "outputs": [
    {
     "data": {
      "text/html": [
       "<div>\n",
       "<style scoped>\n",
       "    .dataframe tbody tr th:only-of-type {\n",
       "        vertical-align: middle;\n",
       "    }\n",
       "\n",
       "    .dataframe tbody tr th {\n",
       "        vertical-align: top;\n",
       "    }\n",
       "\n",
       "    .dataframe thead th {\n",
       "        text-align: right;\n",
       "    }\n",
       "</style>\n",
       "<table border=\"1\" class=\"dataframe\">\n",
       "  <thead>\n",
       "    <tr style=\"text-align: right;\">\n",
       "      <th></th>\n",
       "      <th>sid</th>\n",
       "      <th>Age</th>\n",
       "    </tr>\n",
       "  </thead>\n",
       "  <tbody>\n",
       "    <tr>\n",
       "      <th>count</th>\n",
       "      <td>8.000000</td>\n",
       "      <td>8.000000</td>\n",
       "    </tr>\n",
       "    <tr>\n",
       "      <th>mean</th>\n",
       "      <td>275.000000</td>\n",
       "      <td>30.375000</td>\n",
       "    </tr>\n",
       "    <tr>\n",
       "      <th>std</th>\n",
       "      <td>122.474487</td>\n",
       "      <td>14.151603</td>\n",
       "    </tr>\n",
       "    <tr>\n",
       "      <th>min</th>\n",
       "      <td>100.000000</td>\n",
       "      <td>18.000000</td>\n",
       "    </tr>\n",
       "    <tr>\n",
       "      <th>25%</th>\n",
       "      <td>187.500000</td>\n",
       "      <td>19.750000</td>\n",
       "    </tr>\n",
       "    <tr>\n",
       "      <th>50%</th>\n",
       "      <td>275.000000</td>\n",
       "      <td>22.500000</td>\n",
       "    </tr>\n",
       "    <tr>\n",
       "      <th>75%</th>\n",
       "      <td>362.500000</td>\n",
       "      <td>43.250000</td>\n",
       "    </tr>\n",
       "    <tr>\n",
       "      <th>max</th>\n",
       "      <td>450.000000</td>\n",
       "      <td>50.000000</td>\n",
       "    </tr>\n",
       "  </tbody>\n",
       "</table>\n",
       "</div>"
      ],
      "text/plain": [
       "              sid        Age\n",
       "count    8.000000   8.000000\n",
       "mean   275.000000  30.375000\n",
       "std    122.474487  14.151603\n",
       "min    100.000000  18.000000\n",
       "25%    187.500000  19.750000\n",
       "50%    275.000000  22.500000\n",
       "75%    362.500000  43.250000\n",
       "max    450.000000  50.000000"
      ]
     },
     "execution_count": 46,
     "metadata": {},
     "output_type": "execute_result"
    }
   ],
   "source": [
    "df.describe()"
   ]
  },
  {
   "cell_type": "code",
   "execution_count": 47,
   "metadata": {},
   "outputs": [
    {
     "data": {
      "text/html": [
       "<div>\n",
       "<style scoped>\n",
       "    .dataframe tbody tr th:only-of-type {\n",
       "        vertical-align: middle;\n",
       "    }\n",
       "\n",
       "    .dataframe tbody tr th {\n",
       "        vertical-align: top;\n",
       "    }\n",
       "\n",
       "    .dataframe thead th {\n",
       "        text-align: right;\n",
       "    }\n",
       "</style>\n",
       "<table border=\"1\" class=\"dataframe\">\n",
       "  <thead>\n",
       "    <tr style=\"text-align: right;\">\n",
       "      <th></th>\n",
       "      <th>sid</th>\n",
       "      <th>sname</th>\n",
       "      <th>major</th>\n",
       "      <th>gradelevel</th>\n",
       "      <th>Age</th>\n",
       "    </tr>\n",
       "  </thead>\n",
       "  <tbody>\n",
       "    <tr>\n",
       "      <th>1</th>\n",
       "      <td>150</td>\n",
       "      <td>PARKS</td>\n",
       "      <td>ACCOUNTING</td>\n",
       "      <td>SO</td>\n",
       "      <td>19</td>\n",
       "    </tr>\n",
       "    <tr>\n",
       "      <th>2</th>\n",
       "      <td>200</td>\n",
       "      <td>BAKER</td>\n",
       "      <td>MATH</td>\n",
       "      <td>GR</td>\n",
       "      <td>50</td>\n",
       "    </tr>\n",
       "    <tr>\n",
       "      <th>3</th>\n",
       "      <td>250</td>\n",
       "      <td>GLASS</td>\n",
       "      <td>HISTORY</td>\n",
       "      <td>SN</td>\n",
       "      <td>50</td>\n",
       "    </tr>\n",
       "  </tbody>\n",
       "</table>\n",
       "</div>"
      ],
      "text/plain": [
       "   sid  sname       major gradelevel  Age\n",
       "1  150  PARKS  ACCOUNTING         SO   19\n",
       "2  200  BAKER        MATH         GR   50\n",
       "3  250  GLASS     HISTORY         SN   50"
      ]
     },
     "execution_count": 47,
     "metadata": {},
     "output_type": "execute_result"
    }
   ],
   "source": [
    "df.loc[1:3]"
   ]
  },
  {
   "cell_type": "code",
   "execution_count": 49,
   "metadata": {},
   "outputs": [
    {
     "name": "stderr",
     "output_type": "stream",
     "text": [
      "/var/folders/jp/bdngjdps7gvd_x1br52t2pfc0000gn/T/ipykernel_16574/4250520582.py:1: UserWarning: Boolean Series key will be reindexed to match DataFrame index.\n",
      "  df.loc[1:3][df.sid > 150]\n"
     ]
    },
    {
     "data": {
      "text/html": [
       "<div>\n",
       "<style scoped>\n",
       "    .dataframe tbody tr th:only-of-type {\n",
       "        vertical-align: middle;\n",
       "    }\n",
       "\n",
       "    .dataframe tbody tr th {\n",
       "        vertical-align: top;\n",
       "    }\n",
       "\n",
       "    .dataframe thead th {\n",
       "        text-align: right;\n",
       "    }\n",
       "</style>\n",
       "<table border=\"1\" class=\"dataframe\">\n",
       "  <thead>\n",
       "    <tr style=\"text-align: right;\">\n",
       "      <th></th>\n",
       "      <th>sid</th>\n",
       "      <th>sname</th>\n",
       "      <th>major</th>\n",
       "      <th>gradelevel</th>\n",
       "      <th>Age</th>\n",
       "    </tr>\n",
       "  </thead>\n",
       "  <tbody>\n",
       "    <tr>\n",
       "      <th>2</th>\n",
       "      <td>200</td>\n",
       "      <td>BAKER</td>\n",
       "      <td>MATH</td>\n",
       "      <td>GR</td>\n",
       "      <td>50</td>\n",
       "    </tr>\n",
       "    <tr>\n",
       "      <th>3</th>\n",
       "      <td>250</td>\n",
       "      <td>GLASS</td>\n",
       "      <td>HISTORY</td>\n",
       "      <td>SN</td>\n",
       "      <td>50</td>\n",
       "    </tr>\n",
       "  </tbody>\n",
       "</table>\n",
       "</div>"
      ],
      "text/plain": [
       "   sid  sname    major gradelevel  Age\n",
       "2  200  BAKER     MATH         GR   50\n",
       "3  250  GLASS  HISTORY         SN   50"
      ]
     },
     "execution_count": 49,
     "metadata": {},
     "output_type": "execute_result"
    }
   ],
   "source": [
    "df.loc[1:3][df.sid > 150]"
   ]
  },
  {
   "cell_type": "markdown",
   "metadata": {},
   "source": [
    "### Sorting Data"
   ]
  },
  {
   "cell_type": "code",
   "execution_count": 53,
   "metadata": {},
   "outputs": [
    {
     "data": {
      "text/html": [
       "<div>\n",
       "<style scoped>\n",
       "    .dataframe tbody tr th:only-of-type {\n",
       "        vertical-align: middle;\n",
       "    }\n",
       "\n",
       "    .dataframe tbody tr th {\n",
       "        vertical-align: top;\n",
       "    }\n",
       "\n",
       "    .dataframe thead th {\n",
       "        text-align: right;\n",
       "    }\n",
       "</style>\n",
       "<table border=\"1\" class=\"dataframe\">\n",
       "  <thead>\n",
       "    <tr style=\"text-align: right;\">\n",
       "      <th></th>\n",
       "      <th>sid</th>\n",
       "      <th>sname</th>\n",
       "      <th>major</th>\n",
       "      <th>gradelevel</th>\n",
       "      <th>Age</th>\n",
       "    </tr>\n",
       "  </thead>\n",
       "  <tbody>\n",
       "    <tr>\n",
       "      <th>0</th>\n",
       "      <td>100</td>\n",
       "      <td>JONES</td>\n",
       "      <td>HISTORY</td>\n",
       "      <td>GR</td>\n",
       "      <td>21</td>\n",
       "    </tr>\n",
       "    <tr>\n",
       "      <th>1</th>\n",
       "      <td>150</td>\n",
       "      <td>PARKS</td>\n",
       "      <td>ACCOUNTING</td>\n",
       "      <td>SO</td>\n",
       "      <td>19</td>\n",
       "    </tr>\n",
       "    <tr>\n",
       "      <th>2</th>\n",
       "      <td>200</td>\n",
       "      <td>BAKER</td>\n",
       "      <td>MATH</td>\n",
       "      <td>GR</td>\n",
       "      <td>50</td>\n",
       "    </tr>\n",
       "    <tr>\n",
       "      <th>3</th>\n",
       "      <td>250</td>\n",
       "      <td>GLASS</td>\n",
       "      <td>HISTORY</td>\n",
       "      <td>SN</td>\n",
       "      <td>50</td>\n",
       "    </tr>\n",
       "    <tr>\n",
       "      <th>4</th>\n",
       "      <td>300</td>\n",
       "      <td>BAKER</td>\n",
       "      <td>ACCOUNTING</td>\n",
       "      <td>SN</td>\n",
       "      <td>41</td>\n",
       "    </tr>\n",
       "    <tr>\n",
       "      <th>5</th>\n",
       "      <td>350</td>\n",
       "      <td>RUSSEL</td>\n",
       "      <td>MATH</td>\n",
       "      <td>JR</td>\n",
       "      <td>20</td>\n",
       "    </tr>\n",
       "    <tr>\n",
       "      <th>6</th>\n",
       "      <td>400</td>\n",
       "      <td>RYE</td>\n",
       "      <td>ACCOUNTING</td>\n",
       "      <td>FR</td>\n",
       "      <td>18</td>\n",
       "    </tr>\n",
       "    <tr>\n",
       "      <th>7</th>\n",
       "      <td>450</td>\n",
       "      <td>JONES</td>\n",
       "      <td>HISTORY</td>\n",
       "      <td>SN</td>\n",
       "      <td>24</td>\n",
       "    </tr>\n",
       "  </tbody>\n",
       "</table>\n",
       "</div>"
      ],
      "text/plain": [
       "   sid   sname       major gradelevel  Age\n",
       "0  100   JONES     HISTORY         GR   21\n",
       "1  150   PARKS  ACCOUNTING         SO   19\n",
       "2  200   BAKER        MATH         GR   50\n",
       "3  250   GLASS     HISTORY         SN   50\n",
       "4  300   BAKER  ACCOUNTING         SN   41\n",
       "5  350  RUSSEL        MATH         JR   20\n",
       "6  400     RYE  ACCOUNTING         FR   18\n",
       "7  450   JONES     HISTORY         SN   24"
      ]
     },
     "execution_count": 53,
     "metadata": {},
     "output_type": "execute_result"
    }
   ],
   "source": [
    "df"
   ]
  },
  {
   "cell_type": "code",
   "execution_count": 59,
   "metadata": {},
   "outputs": [
    {
     "data": {
      "text/html": [
       "<div>\n",
       "<style scoped>\n",
       "    .dataframe tbody tr th:only-of-type {\n",
       "        vertical-align: middle;\n",
       "    }\n",
       "\n",
       "    .dataframe tbody tr th {\n",
       "        vertical-align: top;\n",
       "    }\n",
       "\n",
       "    .dataframe thead th {\n",
       "        text-align: right;\n",
       "    }\n",
       "</style>\n",
       "<table border=\"1\" class=\"dataframe\">\n",
       "  <thead>\n",
       "    <tr style=\"text-align: right;\">\n",
       "      <th></th>\n",
       "      <th>sid</th>\n",
       "      <th>sname</th>\n",
       "      <th>major</th>\n",
       "      <th>gradelevel</th>\n",
       "      <th>Age</th>\n",
       "    </tr>\n",
       "  </thead>\n",
       "  <tbody>\n",
       "    <tr>\n",
       "      <th>7</th>\n",
       "      <td>450</td>\n",
       "      <td>JONES</td>\n",
       "      <td>HISTORY</td>\n",
       "      <td>SN</td>\n",
       "      <td>24</td>\n",
       "    </tr>\n",
       "    <tr>\n",
       "      <th>6</th>\n",
       "      <td>400</td>\n",
       "      <td>RYE</td>\n",
       "      <td>ACCOUNTING</td>\n",
       "      <td>FR</td>\n",
       "      <td>18</td>\n",
       "    </tr>\n",
       "    <tr>\n",
       "      <th>5</th>\n",
       "      <td>350</td>\n",
       "      <td>RUSSEL</td>\n",
       "      <td>MATH</td>\n",
       "      <td>JR</td>\n",
       "      <td>20</td>\n",
       "    </tr>\n",
       "    <tr>\n",
       "      <th>4</th>\n",
       "      <td>300</td>\n",
       "      <td>BAKER</td>\n",
       "      <td>ACCOUNTING</td>\n",
       "      <td>SN</td>\n",
       "      <td>41</td>\n",
       "    </tr>\n",
       "    <tr>\n",
       "      <th>3</th>\n",
       "      <td>250</td>\n",
       "      <td>GLASS</td>\n",
       "      <td>HISTORY</td>\n",
       "      <td>SN</td>\n",
       "      <td>50</td>\n",
       "    </tr>\n",
       "    <tr>\n",
       "      <th>2</th>\n",
       "      <td>200</td>\n",
       "      <td>BAKER</td>\n",
       "      <td>MATH</td>\n",
       "      <td>GR</td>\n",
       "      <td>50</td>\n",
       "    </tr>\n",
       "    <tr>\n",
       "      <th>1</th>\n",
       "      <td>150</td>\n",
       "      <td>PARKS</td>\n",
       "      <td>ACCOUNTING</td>\n",
       "      <td>SO</td>\n",
       "      <td>19</td>\n",
       "    </tr>\n",
       "    <tr>\n",
       "      <th>0</th>\n",
       "      <td>100</td>\n",
       "      <td>JONES</td>\n",
       "      <td>HISTORY</td>\n",
       "      <td>GR</td>\n",
       "      <td>21</td>\n",
       "    </tr>\n",
       "  </tbody>\n",
       "</table>\n",
       "</div>"
      ],
      "text/plain": [
       "   sid   sname       major gradelevel  Age\n",
       "7  450   JONES     HISTORY         SN   24\n",
       "6  400     RYE  ACCOUNTING         FR   18\n",
       "5  350  RUSSEL        MATH         JR   20\n",
       "4  300   BAKER  ACCOUNTING         SN   41\n",
       "3  250   GLASS     HISTORY         SN   50\n",
       "2  200   BAKER        MATH         GR   50\n",
       "1  150   PARKS  ACCOUNTING         SO   19\n",
       "0  100   JONES     HISTORY         GR   21"
      ]
     },
     "execution_count": 59,
     "metadata": {},
     "output_type": "execute_result"
    }
   ],
   "source": [
    "df.sort_index(axis=0, ascending=False)"
   ]
  },
  {
   "cell_type": "code",
   "execution_count": 60,
   "metadata": {},
   "outputs": [
    {
     "data": {
      "text/html": [
       "<div>\n",
       "<style scoped>\n",
       "    .dataframe tbody tr th:only-of-type {\n",
       "        vertical-align: middle;\n",
       "    }\n",
       "\n",
       "    .dataframe tbody tr th {\n",
       "        vertical-align: top;\n",
       "    }\n",
       "\n",
       "    .dataframe thead th {\n",
       "        text-align: right;\n",
       "    }\n",
       "</style>\n",
       "<table border=\"1\" class=\"dataframe\">\n",
       "  <thead>\n",
       "    <tr style=\"text-align: right;\">\n",
       "      <th></th>\n",
       "      <th>sid</th>\n",
       "      <th>sname</th>\n",
       "      <th>major</th>\n",
       "      <th>gradelevel</th>\n",
       "      <th>Age</th>\n",
       "    </tr>\n",
       "  </thead>\n",
       "  <tbody>\n",
       "    <tr>\n",
       "      <th>1</th>\n",
       "      <td>150</td>\n",
       "      <td>PARKS</td>\n",
       "      <td>ACCOUNTING</td>\n",
       "      <td>SO</td>\n",
       "      <td>19</td>\n",
       "    </tr>\n",
       "    <tr>\n",
       "      <th>4</th>\n",
       "      <td>300</td>\n",
       "      <td>BAKER</td>\n",
       "      <td>ACCOUNTING</td>\n",
       "      <td>SN</td>\n",
       "      <td>41</td>\n",
       "    </tr>\n",
       "    <tr>\n",
       "      <th>6</th>\n",
       "      <td>400</td>\n",
       "      <td>RYE</td>\n",
       "      <td>ACCOUNTING</td>\n",
       "      <td>FR</td>\n",
       "      <td>18</td>\n",
       "    </tr>\n",
       "    <tr>\n",
       "      <th>0</th>\n",
       "      <td>100</td>\n",
       "      <td>JONES</td>\n",
       "      <td>HISTORY</td>\n",
       "      <td>GR</td>\n",
       "      <td>21</td>\n",
       "    </tr>\n",
       "    <tr>\n",
       "      <th>3</th>\n",
       "      <td>250</td>\n",
       "      <td>GLASS</td>\n",
       "      <td>HISTORY</td>\n",
       "      <td>SN</td>\n",
       "      <td>50</td>\n",
       "    </tr>\n",
       "    <tr>\n",
       "      <th>7</th>\n",
       "      <td>450</td>\n",
       "      <td>JONES</td>\n",
       "      <td>HISTORY</td>\n",
       "      <td>SN</td>\n",
       "      <td>24</td>\n",
       "    </tr>\n",
       "    <tr>\n",
       "      <th>2</th>\n",
       "      <td>200</td>\n",
       "      <td>BAKER</td>\n",
       "      <td>MATH</td>\n",
       "      <td>GR</td>\n",
       "      <td>50</td>\n",
       "    </tr>\n",
       "    <tr>\n",
       "      <th>5</th>\n",
       "      <td>350</td>\n",
       "      <td>RUSSEL</td>\n",
       "      <td>MATH</td>\n",
       "      <td>JR</td>\n",
       "      <td>20</td>\n",
       "    </tr>\n",
       "  </tbody>\n",
       "</table>\n",
       "</div>"
      ],
      "text/plain": [
       "   sid   sname       major gradelevel  Age\n",
       "1  150   PARKS  ACCOUNTING         SO   19\n",
       "4  300   BAKER  ACCOUNTING         SN   41\n",
       "6  400     RYE  ACCOUNTING         FR   18\n",
       "0  100   JONES     HISTORY         GR   21\n",
       "3  250   GLASS     HISTORY         SN   50\n",
       "7  450   JONES     HISTORY         SN   24\n",
       "2  200   BAKER        MATH         GR   50\n",
       "5  350  RUSSEL        MATH         JR   20"
      ]
     },
     "execution_count": 60,
     "metadata": {},
     "output_type": "execute_result"
    }
   ],
   "source": [
    "df.sort_values(by='major')"
   ]
  }
 ],
 "metadata": {
  "interpreter": {
   "hash": "a614fddea9d37e019a720cc724ab725ff28be4e0e64e91a691a8738e1909110d"
  },
  "kernelspec": {
   "display_name": "Python 3.9.7 ('base')",
   "language": "python",
   "name": "python3"
  },
  "language_info": {
   "codemirror_mode": {
    "name": "ipython",
    "version": 3
   },
   "file_extension": ".py",
   "mimetype": "text/x-python",
   "name": "python",
   "nbconvert_exporter": "python",
   "pygments_lexer": "ipython3",
   "version": "3.9.7"
  },
  "orig_nbformat": 4
 },
 "nbformat": 4,
 "nbformat_minor": 2
}
