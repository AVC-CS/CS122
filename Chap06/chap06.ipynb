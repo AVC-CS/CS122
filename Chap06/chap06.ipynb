{
 "cells": [
  {
   "cell_type": "markdown",
   "metadata": {},
   "source": [
    "# Chapter 6. Files and Exceptions\n",
    "\n"
   ]
  },
  {
   "cell_type": "markdown",
   "metadata": {},
   "source": [
    "## 1. Open"
   ]
  },
  {
   "cell_type": "code",
   "execution_count": 23,
   "metadata": {},
   "outputs": [
    {
     "name": "stdout",
     "output_type": "stream",
     "text": [
      "J\n"
     ]
    }
   ],
   "source": [
    "f = open(\"student.txt\")\n",
    "\n",
    "# r = f.read(10)\n",
    "# print (r)\n",
    "r = f.read()\n",
    "print (r)\n"
   ]
  },
  {
   "cell_type": "code",
   "execution_count": 32,
   "metadata": {},
   "outputs": [
    {
     "name": "stdout",
     "output_type": "stream",
     "text": [
      "James Lopez\t100\t90\t80\n",
      "\n",
      "Kurt Hertz\t100\t100\t100\n",
      "\n",
      "Kim  Bosch\t100\t90\t90\n",
      "\n",
      "Audrey Heinz \t100\t100\t100\n",
      "\n",
      "Linda\tQuoz \t100\t90\t90\n"
     ]
    }
   ],
   "source": [
    "f = open(\"student.txt\", 'r')\n",
    "\n",
    "for line in f:\n",
    "\tprint (line)"
   ]
  },
  {
   "cell_type": "code",
   "execution_count": 14,
   "metadata": {},
   "outputs": [
    {
     "name": "stdout",
     "output_type": "stream",
     "text": [
      "Read Line:  James Lopez\t100\t90\t80\n",
      "\n",
      "Read Line:  Kurt Hertz\t100\t100\t100\n",
      "\n",
      "Read Line:  Kim  Bosch\t100\t90\t90\n",
      "\n",
      "Read Line:  Audrey Heinz \t100\t100\t100\n",
      "\n",
      "Read Line:  Linda\tQuoz \t100\t90\t90\n"
     ]
    }
   ],
   "source": [
    "\n",
    "\n",
    "with open(\"student.txt\") as fileobj:\n",
    "\tfor line in fileobj:\n",
    "\t\tprint (\"Read Line: \", line)"
   ]
  },
  {
   "cell_type": "code",
   "execution_count": null,
   "metadata": {},
   "outputs": [],
   "source": []
  },
  {
   "cell_type": "code",
   "execution_count": 5,
   "metadata": {},
   "outputs": [
    {
     "name": "stdout",
     "output_type": "stream",
     "text": [
      "['James Lopez\\t100\\t90\\t80\\n', 'Kurt Hertz\\t100\\t100\\t100\\n', 'Kim  Bosch\\t100\\t90\\t90\\n', 'Audrey Heinz \\t100\\t100\\t100\\n', 'Linda\\tQuoz \\t100\\t90\\t90']\n"
     ]
    }
   ],
   "source": [
    "with open(\"student.txt\") as f:\n",
    "\trows = f.readlines()\n",
    "print (rows)"
   ]
  },
  {
   "cell_type": "code",
   "execution_count": 25,
   "metadata": {},
   "outputs": [
    {
     "name": "stdout",
     "output_type": "stream",
     "text": [
      "File Exists\n"
     ]
    }
   ],
   "source": [
    "\n",
    "try:\n",
    "\tf = open(\"notexist.txt\")\n",
    "except Exception as e:\n",
    "\tprint (\"File Open Error\")\n",
    "\tprint (e)\n",
    "else:\n",
    "\tresult = f.read()\n",
    "\tprint (result)\n"
   ]
  },
  {
   "cell_type": "code",
   "execution_count": 28,
   "metadata": {},
   "outputs": [
    {
     "name": "stdout",
     "output_type": "stream",
     "text": [
      "[Errno 2] No such file or directory: 'student1.txt'\n"
     ]
    }
   ],
   "source": [
    "try:\n",
    "\twith open(\"student.txt\") as f:\n",
    "\t\tfor line in f.readlines():\n",
    "\t\t\tprint (line)\n",
    "except IOError as e:\n",
    "\tprint (e)\n",
    "except:\n",
    "\tprint (\"File Errors\")\n",
    "\n",
    "\n"
   ]
  },
  {
   "cell_type": "markdown",
   "metadata": {},
   "source": [
    "## 3. Write"
   ]
  },
  {
   "cell_type": "code",
   "execution_count": 23,
   "metadata": {},
   "outputs": [],
   "source": [
    "firstname = \"John\"\n",
    "lastname = \"Lee\"\n",
    "\n",
    "with open(\"studentinfo.txt\", 'w') as f:\n",
    "\tf.writelines(firstname+\"\\n\")\n",
    "\tf.writelines(lastname+\"\\n\")"
   ]
  },
  {
   "cell_type": "code",
   "execution_count": 19,
   "metadata": {},
   "outputs": [],
   "source": [
    "sid = 100;\n",
    "sname = \"John\"\n",
    "scores = [100, 200, 300]\n",
    "with open(\"studentinfo.txt\", 'w') as f:\n",
    "\tf.write(str(sid)+\"\\t\")\n",
    "\tf.write(sname+\"\\t\")\n",
    "\tf.write(\" \".join(map(str,scores)))\n",
    "\t# f.write(str(scores))\n"
   ]
  },
  {
   "cell_type": "markdown",
   "metadata": {},
   "source": [
    "# 4. Labs"
   ]
  },
  {
   "cell_type": "code",
   "execution_count": 56,
   "metadata": {},
   "outputs": [
    {
     "name": "stdout",
     "output_type": "stream",
     "text": [
      "['First', 'Last', 'English', 'Math', 'Physics']\n",
      "['First', 'Last', 'English', 'Math', 'Physics']\n",
      "['James', 'Lopez', '100', '90', '80']\n",
      "['First', 'Last', 'English', 'Math', 'Physics']\n",
      "['Kurt', 'Hertz', '100', '100', '100']\n",
      "['First', 'Last', 'English', 'Math', 'Physics']\n",
      "['Kim', 'Bosch', '100', '90', '90']\n",
      "['First', 'Last', 'English', 'Math', 'Physics']\n",
      "['Audrey', 'Heinz', '100', '100', '100']\n",
      "['First', 'Last', 'English', 'Math', 'Physics']\n",
      "['Linda', 'Quoz', '100', '90', '90']\n",
      "['First', 'Last', 'English', 'Math', 'Physics']\n",
      "[{'First': 'James', 'Last': 'Lopez', 'English': '100', 'Math': '90', 'Physics': '80'}, {'First': 'Kurt', 'Last': 'Hertz', 'English': '100', 'Math': '100', 'Physics': '100'}, {'First': 'Kim', 'Last': 'Bosch', 'English': '100', 'Math': '90', 'Physics': '90'}, {'First': 'Audrey', 'Last': 'Heinz', 'English': '100', 'Math': '100', 'Physics': '100'}, {'First': 'Linda', 'Last': 'Quoz', 'English': '100', 'Math': '90', 'Physics': '90'}]\n"
     ]
    }
   ],
   "source": [
    "try:\n",
    "\twith open(\"student.txt\") as f:\n",
    "\t\tcnt = 0\n",
    "\t\theader = []\n",
    "\t\tslist = []\n",
    "\t\t\n",
    "\t\tfor line in f.readlines():\n",
    "\t\t\tline = line.strip('\\n').split(' ')\n",
    "\t\t\tprint (line)\n",
    "\t\t\td = {}\n",
    "\t\t\tif cnt == 0:\n",
    "\t\t\t\tfor i in range(len(line)):\n",
    "\t\t\t\t\theader.append(line[i])\n",
    "\t\t\telse:\n",
    "\t\t\t\tfor i in range(len(header)):\n",
    "\t\t\t\t\td[header[i]] = line[i]\n",
    "\t\t\t\tslist.append(d)\n",
    "\t\t\tprint (header)\n",
    "\t\t\tcnt += 1 \n",
    "\t\tprint (slist)\n",
    "\n",
    "\t\t\t\n",
    "except IOError as e:\n",
    "\tprint (e)\n",
    "except Exception as e:\n",
    "\tprint (\"File  Errors\")\n",
    "\tprint (e)\n",
    "\n"
   ]
  },
  {
   "cell_type": "code",
   "execution_count": 67,
   "metadata": {},
   "outputs": [
    {
     "name": "stdout",
     "output_type": "stream",
     "text": [
      "Kurt\n",
      "Hertz\n",
      "100\n",
      "100\n",
      "100\n",
      "Kim\n",
      "Bosch\n",
      "100\n",
      "90\n",
      "90\n",
      "Audrey\n",
      "Heinz\n",
      "100\n",
      "100\n",
      "100\n",
      "Linda\n",
      "Quoz\n",
      "100\n",
      "90\n",
      "90\n"
     ]
    }
   ],
   "source": [
    "import xlwt\n",
    "\n",
    "wb = xlwt.Workbook()\n",
    "ws = wb.add_sheet('Student')\n",
    "\n",
    "for i in range(len(header)):\n",
    "\tws.write(0, i, header[i])\n",
    "\n",
    "for i in range(1, len(slist)):\n",
    "\t# for j in range(len(slist[i].values())):\n",
    "\tj = 0\n",
    "\tfor vals in slist[i].values():\n",
    "\t\tprint (vals)\n",
    "\t\tif ( j >= 2):\n",
    "\t\t\tvals = int(vals)\n",
    "\t\tws.write(i, j, vals) \n",
    "\t\tj += 1\n",
    "wb.save('student.xls')\n",
    "\n"
   ]
  }
 ],
 "metadata": {
  "interpreter": {
   "hash": "a614fddea9d37e019a720cc724ab725ff28be4e0e64e91a691a8738e1909110d"
  },
  "kernelspec": {
   "display_name": "Python 3.9.7 ('base')",
   "language": "python",
   "name": "python3"
  },
  "language_info": {
   "codemirror_mode": {
    "name": "ipython",
    "version": 3
   },
   "file_extension": ".py",
   "mimetype": "text/x-python",
   "name": "python",
   "nbconvert_exporter": "python",
   "pygments_lexer": "ipython3",
   "version": "3.9.7"
  },
  "orig_nbformat": 4
 },
 "nbformat": 4,
 "nbformat_minor": 2
}
