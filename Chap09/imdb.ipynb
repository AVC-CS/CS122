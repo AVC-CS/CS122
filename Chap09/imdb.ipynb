{
 "cells": [
  {
   "cell_type": "markdown",
   "metadata": {},
   "source": [
    "<style>\n",
    "\th1 {\n",
    "\t\tbackground-color: grey;\n",
    "\t\tcolor: Yellow;\n",
    "\t\tborder: 3px solid grey;\n",
    "\t\tfont-size: xx-large; \n",
    "\t}\n",
    "\tp {\n",
    "\t\tbackground-color: grey;\n",
    "\t\tcolor: white;\n",
    "\t\tborder: 3px solid grey;\n",
    "\t}\n",
    "</style>\n",
    "<h1> Review Example </h1>"
   ]
  },
  {
   "cell_type": "markdown",
   "metadata": {},
   "source": [
    "<style>\n",
    "\th1 {\n",
    "\t\tbackground-color: grey;\n",
    "\t\tcolor: Yellow;\n",
    "\t\tborder: 3px solid grey;\n",
    "\t\tfont-size: xx-large; \n",
    "\t}\n",
    "\tp {\n",
    "\t\tbackground-color: grey;\n",
    "\t\tcolor: white;\n",
    "\t\tborder: 3px solid grey;\n",
    "\t}\n",
    "</style>\n",
    "<p> How to read Excel file </p>"
   ]
  },
  {
   "cell_type": "code",
   "execution_count": 2,
   "metadata": {},
   "outputs": [
    {
     "name": "stdout",
     "output_type": "stream",
     "text": [
      "30\n",
      "['nconst', 'primaryName', 'birthYear', 'deathYear', 'primaryProfession']\n",
      "['nm0000001', 'Fred Astaire', 1899.0, 1987.0, 'soundtrack,actor,miscellaneous']\n",
      "['nm0000002', 'Lauren Bacall', 1924.0, 2014.0, 'actress,soundtrack']\n",
      "['nm0000003', 'Brigitte Bardot', 1934.0, 'N/A', 'actress,soundtrack,music_department']\n",
      "['nm0000004', 'John Belushi', 1949.0, 1982.0, 'actor,soundtrack,writer']\n",
      "['nm0000005', 'Ingmar Bergman', 1918.0, 2007.0, 'writer,director,actor']\n",
      "['nm0000006', 'Ingrid Bergman', 1915.0, 1982.0, 'actress,soundtrack,producer']\n",
      "['nm0000007', 'Humphrey Bogart', 1899.0, 1957.0, 'actor,soundtrack,producer']\n",
      "['nm0000008', 'Marlon Brando', 1924.0, 2004.0, 'actor,soundtrack,director']\n",
      "['nm0000009', 'Richard Burton', 1925.0, 1984.0, 'actor,soundtrack,producer']\n",
      "['nm0000010', 'James Cagney', 1899.0, 1986.0, 'actor,soundtrack,director']\n",
      "['nm0000011', 'Gary Cooper', 1901.0, 1961.0, 'actor,soundtrack,producer']\n",
      "['nm0000012', 'Bette Davis', 1908.0, 1989.0, 'actress,soundtrack,make_up_department']\n",
      "['nm0000013', 'Doris Day', 1922.0, 2019.0, 'soundtrack,actress,producer']\n",
      "['nm0000014', 'Olivia de Havilland', 1916.0, 2020.0, 'actress,soundtrack']\n",
      "['nm0000015', 'James Dean', 1931.0, 1955.0, 'actor,miscellaneous']\n",
      "['nm0000016', 'Georges Delerue', 1925.0, 1992.0, 'composer,soundtrack,music_department']\n",
      "['nm0000017', 'Marlene Dietrich', 1901.0, 1992.0, 'soundtrack,actress,music_department']\n",
      "['nm0000018', 'Kirk Douglas', 1916.0, 2020.0, 'actor,producer,soundtrack']\n",
      "['nm0000019', 'Federico Fellini', 1920.0, 1993.0, 'writer,director,assistant_director']\n",
      "['nm0000020', 'Henry Fonda', 1905.0, 1982.0, 'actor,producer,soundtrack']\n",
      "['nm0000021', 'Joan Fontaine', 1917.0, 2013.0, 'actress,soundtrack,producer']\n",
      "['nm0000022', 'Clark Gable', 1901.0, 1960.0, 'actor,soundtrack,producer']\n",
      "['nm0000023', 'Judy Garland', 1922.0, 1969.0, 'soundtrack,actress']\n",
      "['nm0000024', 'John Gielgud', 1904.0, 2000.0, 'actor,writer,director']\n",
      "['nm0000025', 'Jerry Goldsmith', 1929.0, 2004.0, 'music_department,soundtrack,composer']\n",
      "['nm0000026', 'Cary Grant', 1904.0, 1986.0, 'actor,soundtrack,producer']\n",
      "['nm0000027', 'Alec Guinness', 1914.0, 2000.0, 'actor,soundtrack,writer']\n",
      "['nm0000028', 'Rita Hayworth', 1918.0, 1987.0, 'actress,soundtrack,producer']\n",
      "['nm0000029', 'Margaux Hemingway', 1954.0, 1996.0, 'actress,miscellaneous']\n"
     ]
    }
   ],
   "source": [
    "\n",
    "import xlrd\n",
    "\n",
    "wb = xlrd.open_workbook('imdb.xls')\n",
    "ws = wb.sheet_by_index(0)\n",
    "rows = []\n",
    "\n",
    "print (ws.nrows)\n",
    "\n",
    "keys = ws.row_values(0)\n",
    "print (keys)\n",
    "\n",
    "\n",
    "for rownumber in range(1, ws.nrows):\n",
    "\tprint (ws.row_values(rownumber))"
   ]
  },
  {
   "cell_type": "code",
   "execution_count": 15,
   "metadata": {},
   "outputs": [
    {
     "name": "stdout",
     "output_type": "stream",
     "text": [
      "['nconst', 'primaryName', 'birthYear', 'deathYear', 'primaryProfession']\n",
      "[{'nconst': 'nm0000001', 'primaryName': 'Fred Astaire', 'birthYear': 1899.0, 'deathYear': 1987.0, 'primaryProfession': 'soundtrack,actor,miscellaneous'}, {'nconst': 'nm0000002', 'primaryName': 'Lauren Bacall', 'birthYear': 1924.0, 'deathYear': 2014.0, 'primaryProfession': 'actress,soundtrack'}, {'nconst': 'nm0000003', 'primaryName': 'Brigitte Bardot', 'birthYear': 1934.0, 'deathYear': '\\\\N', 'primaryProfession': 'actress,soundtrack,music_department'}, {'nconst': 'nm0000004', 'primaryName': 'John Belushi', 'birthYear': 1949.0, 'deathYear': 1982.0, 'primaryProfession': 'actor,soundtrack,writer'}, {'nconst': 'nm0000005', 'primaryName': 'Ingmar Bergman', 'birthYear': 1918.0, 'deathYear': 2007.0, 'primaryProfession': 'writer,director,actor'}, {'nconst': 'nm0000006', 'primaryName': 'Ingrid Bergman', 'birthYear': 1915.0, 'deathYear': 1982.0, 'primaryProfession': 'actress,soundtrack,producer'}, {'nconst': 'nm0000007', 'primaryName': 'Humphrey Bogart', 'birthYear': 1899.0, 'deathYear': 1957.0, 'primaryProfession': 'actor,soundtrack,producer'}, {'nconst': 'nm0000008', 'primaryName': 'Marlon Brando', 'birthYear': 1924.0, 'deathYear': 2004.0, 'primaryProfession': 'actor,soundtrack,director'}, {'nconst': 'nm0000009', 'primaryName': 'Richard Burton', 'birthYear': 1925.0, 'deathYear': 1984.0, 'primaryProfession': 'actor,soundtrack,producer'}, {'nconst': 'nm0000010', 'primaryName': 'James Cagney', 'birthYear': 1899.0, 'deathYear': 1986.0, 'primaryProfession': 'actor,soundtrack,director'}, {'nconst': 'nm0000011', 'primaryName': 'Gary Cooper', 'birthYear': 1901.0, 'deathYear': 1961.0, 'primaryProfession': 'actor,soundtrack,producer'}, {'nconst': 'nm0000012', 'primaryName': 'Bette Davis', 'birthYear': 1908.0, 'deathYear': 1989.0, 'primaryProfession': 'actress,soundtrack,make_up_department'}, {'nconst': 'nm0000013', 'primaryName': 'Doris Day', 'birthYear': 1922.0, 'deathYear': 2019.0, 'primaryProfession': 'soundtrack,actress,producer'}, {'nconst': 'nm0000014', 'primaryName': 'Olivia de Havilland', 'birthYear': 1916.0, 'deathYear': 2020.0, 'primaryProfession': 'actress,soundtrack'}, {'nconst': 'nm0000015', 'primaryName': 'James Dean', 'birthYear': 1931.0, 'deathYear': 1955.0, 'primaryProfession': 'actor,miscellaneous'}, {'nconst': 'nm0000016', 'primaryName': 'Georges Delerue', 'birthYear': 1925.0, 'deathYear': 1992.0, 'primaryProfession': 'composer,soundtrack,music_department'}, {'nconst': 'nm0000017', 'primaryName': 'Marlene Dietrich', 'birthYear': 1901.0, 'deathYear': 1992.0, 'primaryProfession': 'soundtrack,actress,music_department'}, {'nconst': 'nm0000018', 'primaryName': 'Kirk Douglas', 'birthYear': 1916.0, 'deathYear': 2020.0, 'primaryProfession': 'actor,producer,soundtrack'}, {'nconst': 'nm0000019', 'primaryName': 'Federico Fellini', 'birthYear': 1920.0, 'deathYear': 1993.0, 'primaryProfession': 'writer,director,assistant_director'}, {'nconst': 'nm0000020', 'primaryName': 'Henry Fonda', 'birthYear': 1905.0, 'deathYear': 1982.0, 'primaryProfession': 'actor,producer,soundtrack'}, {'nconst': 'nm0000021', 'primaryName': 'Joan Fontaine', 'birthYear': 1917.0, 'deathYear': 2013.0, 'primaryProfession': 'actress,soundtrack,producer'}, {'nconst': 'nm0000022', 'primaryName': 'Clark Gable', 'birthYear': 1901.0, 'deathYear': 1960.0, 'primaryProfession': 'actor,soundtrack,producer'}, {'nconst': 'nm0000023', 'primaryName': 'Judy Garland', 'birthYear': 1922.0, 'deathYear': 1969.0, 'primaryProfession': 'soundtrack,actress'}, {'nconst': 'nm0000024', 'primaryName': 'John Gielgud', 'birthYear': 1904.0, 'deathYear': 2000.0, 'primaryProfession': 'actor,writer,director'}, {'nconst': 'nm0000025', 'primaryName': 'Jerry Goldsmith', 'birthYear': 1929.0, 'deathYear': 2004.0, 'primaryProfession': 'music_department,soundtrack,composer'}, {'nconst': 'nm0000026', 'primaryName': 'Cary Grant', 'birthYear': 1904.0, 'deathYear': 1986.0, 'primaryProfession': 'actor,soundtrack,producer'}, {'nconst': 'nm0000027', 'primaryName': 'Alec Guinness', 'birthYear': 1914.0, 'deathYear': 2000.0, 'primaryProfession': 'actor,soundtrack,writer'}, {'nconst': 'nm0000028', 'primaryName': 'Rita Hayworth', 'birthYear': 1918.0, 'deathYear': 1987.0, 'primaryProfession': 'actress,soundtrack,producer'}, {'nconst': 'nm0000029', 'primaryName': 'Margaux Hemingway', 'birthYear': 1954.0, 'deathYear': 1996.0, 'primaryProfession': 'actress,miscellaneous'}]\n",
      "{'nconst': 'nm0000001', 'primaryName': 'Fred Astaire', 'birthYear': 1899.0, 'deathYear': 1987.0, 'primaryProfession': 'soundtrack,actor,miscellaneous'}\n",
      "{'nconst': 'nm0000002', 'primaryName': 'Lauren Bacall', 'birthYear': 1924.0, 'deathYear': 2014.0, 'primaryProfession': 'actress,soundtrack'}\n",
      "{'nconst': 'nm0000003', 'primaryName': 'Brigitte Bardot', 'birthYear': 1934.0, 'deathYear': '\\\\N', 'primaryProfession': 'actress,soundtrack,music_department'}\n",
      "{'nconst': 'nm0000004', 'primaryName': 'John Belushi', 'birthYear': 1949.0, 'deathYear': 1982.0, 'primaryProfession': 'actor,soundtrack,writer'}\n",
      "{'nconst': 'nm0000005', 'primaryName': 'Ingmar Bergman', 'birthYear': 1918.0, 'deathYear': 2007.0, 'primaryProfession': 'writer,director,actor'}\n",
      "{'nconst': 'nm0000006', 'primaryName': 'Ingrid Bergman', 'birthYear': 1915.0, 'deathYear': 1982.0, 'primaryProfession': 'actress,soundtrack,producer'}\n",
      "{'nconst': 'nm0000007', 'primaryName': 'Humphrey Bogart', 'birthYear': 1899.0, 'deathYear': 1957.0, 'primaryProfession': 'actor,soundtrack,producer'}\n",
      "{'nconst': 'nm0000008', 'primaryName': 'Marlon Brando', 'birthYear': 1924.0, 'deathYear': 2004.0, 'primaryProfession': 'actor,soundtrack,director'}\n",
      "{'nconst': 'nm0000009', 'primaryName': 'Richard Burton', 'birthYear': 1925.0, 'deathYear': 1984.0, 'primaryProfession': 'actor,soundtrack,producer'}\n",
      "{'nconst': 'nm0000010', 'primaryName': 'James Cagney', 'birthYear': 1899.0, 'deathYear': 1986.0, 'primaryProfession': 'actor,soundtrack,director'}\n",
      "{'nconst': 'nm0000011', 'primaryName': 'Gary Cooper', 'birthYear': 1901.0, 'deathYear': 1961.0, 'primaryProfession': 'actor,soundtrack,producer'}\n",
      "{'nconst': 'nm0000012', 'primaryName': 'Bette Davis', 'birthYear': 1908.0, 'deathYear': 1989.0, 'primaryProfession': 'actress,soundtrack,make_up_department'}\n",
      "{'nconst': 'nm0000013', 'primaryName': 'Doris Day', 'birthYear': 1922.0, 'deathYear': 2019.0, 'primaryProfession': 'soundtrack,actress,producer'}\n",
      "{'nconst': 'nm0000014', 'primaryName': 'Olivia de Havilland', 'birthYear': 1916.0, 'deathYear': 2020.0, 'primaryProfession': 'actress,soundtrack'}\n",
      "{'nconst': 'nm0000015', 'primaryName': 'James Dean', 'birthYear': 1931.0, 'deathYear': 1955.0, 'primaryProfession': 'actor,miscellaneous'}\n",
      "{'nconst': 'nm0000016', 'primaryName': 'Georges Delerue', 'birthYear': 1925.0, 'deathYear': 1992.0, 'primaryProfession': 'composer,soundtrack,music_department'}\n",
      "{'nconst': 'nm0000017', 'primaryName': 'Marlene Dietrich', 'birthYear': 1901.0, 'deathYear': 1992.0, 'primaryProfession': 'soundtrack,actress,music_department'}\n",
      "{'nconst': 'nm0000018', 'primaryName': 'Kirk Douglas', 'birthYear': 1916.0, 'deathYear': 2020.0, 'primaryProfession': 'actor,producer,soundtrack'}\n",
      "{'nconst': 'nm0000019', 'primaryName': 'Federico Fellini', 'birthYear': 1920.0, 'deathYear': 1993.0, 'primaryProfession': 'writer,director,assistant_director'}\n",
      "{'nconst': 'nm0000020', 'primaryName': 'Henry Fonda', 'birthYear': 1905.0, 'deathYear': 1982.0, 'primaryProfession': 'actor,producer,soundtrack'}\n",
      "{'nconst': 'nm0000021', 'primaryName': 'Joan Fontaine', 'birthYear': 1917.0, 'deathYear': 2013.0, 'primaryProfession': 'actress,soundtrack,producer'}\n",
      "{'nconst': 'nm0000022', 'primaryName': 'Clark Gable', 'birthYear': 1901.0, 'deathYear': 1960.0, 'primaryProfession': 'actor,soundtrack,producer'}\n",
      "{'nconst': 'nm0000023', 'primaryName': 'Judy Garland', 'birthYear': 1922.0, 'deathYear': 1969.0, 'primaryProfession': 'soundtrack,actress'}\n",
      "{'nconst': 'nm0000024', 'primaryName': 'John Gielgud', 'birthYear': 1904.0, 'deathYear': 2000.0, 'primaryProfession': 'actor,writer,director'}\n",
      "{'nconst': 'nm0000025', 'primaryName': 'Jerry Goldsmith', 'birthYear': 1929.0, 'deathYear': 2004.0, 'primaryProfession': 'music_department,soundtrack,composer'}\n",
      "{'nconst': 'nm0000026', 'primaryName': 'Cary Grant', 'birthYear': 1904.0, 'deathYear': 1986.0, 'primaryProfession': 'actor,soundtrack,producer'}\n",
      "{'nconst': 'nm0000027', 'primaryName': 'Alec Guinness', 'birthYear': 1914.0, 'deathYear': 2000.0, 'primaryProfession': 'actor,soundtrack,writer'}\n",
      "{'nconst': 'nm0000028', 'primaryName': 'Rita Hayworth', 'birthYear': 1918.0, 'deathYear': 1987.0, 'primaryProfession': 'actress,soundtrack,producer'}\n",
      "{'nconst': 'nm0000029', 'primaryName': 'Margaux Hemingway', 'birthYear': 1954.0, 'deathYear': 1996.0, 'primaryProfession': 'actress,miscellaneous'}\n"
     ]
    }
   ],
   "source": [
    "\n",
    "imlist = []\n",
    "keys = ws.row_values(0)\n",
    "print (keys)\n",
    "\n",
    "\n",
    "for rownumber in range(1, ws.nrows):\n",
    "\timdict = {}\n",
    "\tfor i in range(len(keys)):\n",
    "\t\timdict[keys[i]] = ws.row_values(rownumber)[i] \n",
    "\timlist.append(imdict)\n",
    "# print (imlist)\n",
    "for i in range(len(imlist)):\n",
    "\tprint (imlist[i])\n"
   ]
  },
  {
   "cell_type": "code",
   "execution_count": null,
   "metadata": {},
   "outputs": [],
   "source": []
  }
 ],
 "metadata": {
  "interpreter": {
   "hash": "a614fddea9d37e019a720cc724ab725ff28be4e0e64e91a691a8738e1909110d"
  },
  "kernelspec": {
   "display_name": "Python 3.9.7 ('base')",
   "language": "python",
   "name": "python3"
  },
  "language_info": {
   "codemirror_mode": {
    "name": "ipython",
    "version": 3
   },
   "file_extension": ".py",
   "mimetype": "text/x-python",
   "name": "python",
   "nbconvert_exporter": "python",
   "pygments_lexer": "ipython3",
   "version": "3.9.7"
  },
  "orig_nbformat": 4
 },
 "nbformat": 4,
 "nbformat_minor": 2
}
