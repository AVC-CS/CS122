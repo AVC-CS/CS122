{
 "cells": [
  {
   "cell_type": "markdown",
   "metadata": {},
   "source": [
    "# <mark style=\"background-color:teal; color:white\"> Chapter 10: Classes and OOP </mark>"
   ]
  },
  {
   "cell_type": "markdown",
   "metadata": {},
   "source": [
    "## <mark style=\"background-color:#008a20; color:white\"> Class Definition </mark>"
   ]
  },
  {
   "cell_type": "code",
   "execution_count": 66,
   "metadata": {},
   "outputs": [
    {
     "name": "stdout",
     "output_type": "stream",
     "text": [
      "10\n",
      "John\n",
      "1001\n",
      "James\n",
      "20\n"
     ]
    },
    {
     "data": {
      "text/plain": [
       "['__class__',\n",
       " '__delattr__',\n",
       " '__dict__',\n",
       " '__dir__',\n",
       " '__doc__',\n",
       " '__eq__',\n",
       " '__format__',\n",
       " '__ge__',\n",
       " '__getattribute__',\n",
       " '__gt__',\n",
       " '__hash__',\n",
       " '__init__',\n",
       " '__init_subclass__',\n",
       " '__le__',\n",
       " '__lt__',\n",
       " '__module__',\n",
       " '__ne__',\n",
       " '__new__',\n",
       " '__reduce__',\n",
       " '__reduce_ex__',\n",
       " '__repr__',\n",
       " '__setattr__',\n",
       " '__sizeof__',\n",
       " '__str__',\n",
       " '__subclasshook__',\n",
       " '__weakref__',\n",
       " 'sid',\n",
       " 'sname',\n",
       " 'x']"
      ]
     },
     "execution_count": 66,
     "metadata": {},
     "output_type": "execute_result"
    }
   ],
   "source": [
    "\n",
    "class Student:\n",
    "\tsid = 10 \n",
    "\tsname = 'John' \n",
    "\n",
    "\n",
    "s = Student ()\n",
    "\n",
    "print (s.sid)\n",
    "print (s.sname)\n",
    "\n",
    "s.sid = 1001\n",
    "s.sname = 'James'\n",
    "\n",
    "print (s.sid)\n",
    "print (s.sname)\n",
    "\n",
    "# s.x = 20\n",
    "# print (s.x) # It works. How can we access s.x even it has not been initialized in the Class Student?\n",
    "\n",
    "dir(s)"
   ]
  },
  {
   "cell_type": "code",
   "execution_count": 6,
   "metadata": {},
   "outputs": [
    {
     "name": "stdout",
     "output_type": "stream",
     "text": [
      "Student Information: ID: 10001      Name:                John\n"
     ]
    }
   ],
   "source": [
    "\n",
    "class Student:\n",
    "\tdef __init__(self, sid, name):\n",
    "\t\tself.sid = sid \n",
    "\t\tself.sname = name \n",
    "\tdef __str__(self):\n",
    "\t\treturn f'Student Information: ID: {self.sid:<10} Name:{self.sname:>20}'\n",
    "\n",
    "\n",
    "s = Student (10001, 'John')\n",
    "\n",
    "print (s)"
   ]
  },
  {
   "cell_type": "markdown",
   "metadata": {},
   "source": [
    "## <mark style=\"background-color:#DEEC4A; color:grey\"> Lab 1 </mark>"
   ]
  },
  {
   "cell_type": "code",
   "execution_count": 16,
   "metadata": {},
   "outputs": [
    {
     "name": "stdout",
     "output_type": "stream",
     "text": [
      "20 10\n"
     ]
    }
   ],
   "source": [
    "\n",
    "class Rectangle:\n",
    "\tdef __init__(self, w, h):\n",
    "\t\tself.height = w\t\n",
    "\t\tself.width = h\t\n",
    "\n",
    "r = Rectangle(10, 20)\n",
    "\n",
    "print (r.width, r.height)"
   ]
  },
  {
   "cell_type": "markdown",
   "metadata": {},
   "source": [
    "## <mark style=\"background-color:#008a20; color:white\"> Methods </mark>"
   ]
  },
  {
   "cell_type": "code",
   "execution_count": 18,
   "metadata": {},
   "outputs": [
    {
     "name": "stdout",
     "output_type": "stream",
     "text": [
      "200\n"
     ]
    }
   ],
   "source": [
    "\n",
    "class Rectangle:\n",
    "\n",
    "\tdef __init__(self, width, height):\n",
    "\t\tself.width = width\n",
    "\t\tself.height = height\n",
    "\t\n",
    "\tdef getArea(self):\n",
    "\t\treturn self.width * self.height\n",
    "\n",
    "r1 = Rectangle(10,20)\n",
    "print (r1.getArea())\n"
   ]
  },
  {
   "cell_type": "markdown",
   "metadata": {},
   "source": [
    "## <mark style=\"background-color:#008a20; color:white\"> Hiding Attributes </mark>"
   ]
  },
  {
   "cell_type": "code",
   "execution_count": 34,
   "metadata": {},
   "outputs": [
    {
     "name": "stdout",
     "output_type": "stream",
     "text": [
      "200\n"
     ]
    },
    {
     "data": {
      "text/plain": [
       "20"
      ]
     },
     "execution_count": 34,
     "metadata": {},
     "output_type": "execute_result"
    }
   ],
   "source": [
    "\n",
    "class Rectangle:\n",
    "\n",
    "\tdef __init__(self, width, height):\n",
    "\t\tself.__width = width\n",
    "\t\tself.__height = height\n",
    "\t\n",
    "\tdef getArea(self):\n",
    "\t\treturn self.__width * self.__height\n",
    "\n",
    "r1 = Rectangle(10,20)\n",
    "\n",
    "print (r1.getArea())\n",
    "# r1.__height # Error\n",
    "r1._Rectangle__height\n"
   ]
  },
  {
   "cell_type": "markdown",
   "metadata": {},
   "source": [
    "## <mark style=\"background-color:#008a20; color:white\"> Single Leaing Underscore </mark>"
   ]
  },
  {
   "cell_type": "code",
   "execution_count": 72,
   "metadata": {},
   "outputs": [
    {
     "name": "stdout",
     "output_type": "stream",
     "text": [
      "Sarah\n",
      "26\n"
     ]
    }
   ],
   "source": [
    "class Person:\n",
    "   def __init__(self):\n",
    "       self.name = 'Sarah'\n",
    "       self._age = 26\n",
    "\n",
    "p = Person()\n",
    "print (p.name)\n",
    "\n",
    "# Non-public attributes are still accessible\n",
    "print (p._age) # The naming with single leading underscore is a just convention. _age can be accessed outside of class\n",
    "\n",
    "\n"
   ]
  },
  {
   "cell_type": "markdown",
   "metadata": {},
   "source": [
    "## <mark style=\"background-color:#008a20; color:white\"> Double Leaing Underscore </mark>"
   ]
  },
  {
   "cell_type": "code",
   "execution_count": 73,
   "metadata": {},
   "outputs": [
    {
     "name": "stdout",
     "output_type": "stream",
     "text": [
      "10\n"
     ]
    }
   ],
   "source": [
    "class Rectangle:\n",
    "\tdef __init__(self, w, h):\n",
    "\t\tself.__width = w\n",
    "\t\tself.__height = h\n",
    "\tdef getArea(self):\n",
    "\t\treturn self.__width * self.__height\n",
    "\n",
    "r = Rectangle(10, 20)\n",
    "# print (r.__width) # Error\n",
    "\n",
    "print (r._Rectangle__width)\n"
   ]
  },
  {
   "cell_type": "markdown",
   "metadata": {},
   "source": [
    "## <mark style=\"background-color:#008a20; color:white\"> Getter and Setter</mark>"
   ]
  },
  {
   "cell_type": "code",
   "execution_count": 37,
   "metadata": {},
   "outputs": [
    {
     "name": "stdout",
     "output_type": "stream",
     "text": [
      "10 20\n"
     ]
    }
   ],
   "source": [
    "\n",
    "class Point:\n",
    "\tdef __init__(self,x,y):\n",
    "\t\tself.__x = x\n",
    "\t\tself.__y = y\n",
    "\n",
    "\tdef get_x(self): \t# getter for x \n",
    "\t\treturn self.__x\n",
    "\tdef set_x(self, x): \t# setter for x\n",
    "\t\tself.__x = x\t\n",
    "\tdef get_y(self):\t# getter for y\n",
    "\t\treturn self.__y\n",
    "\tdef set_y(self, y):\t# setter for y\n",
    "\t\tself.__y = y\t\n",
    "\n",
    "\n",
    "p1 = Point(10, 20) \n",
    "print(p1.get_x(), p1.get_y())\n",
    "\n",
    "\n"
   ]
  },
  {
   "cell_type": "markdown",
   "metadata": {},
   "source": [
    "## <mark style=\"background-color:#008a20; color:white\"> Pythonic Way: Property </mark>"
   ]
  },
  {
   "cell_type": "markdown",
   "metadata": {},
   "source": [
    "## <mark style=\"background-color:#F9B963; color:white\"> Single Leading Underscore Attribute </mark>"
   ]
  },
  {
   "cell_type": "code",
   "execution_count": 4,
   "metadata": {},
   "outputs": [
    {
     "name": "stdout",
     "output_type": "stream",
     "text": [
      "through get_x()\n",
      "through get_y()\n",
      "50 50\n",
      "through get_y()\n",
      "0 50\n",
      "-20\n",
      "through get_x()\n",
      "through get_y()\n",
      "-20 50\n"
     ]
    }
   ],
   "source": [
    "\n",
    "class Point:\n",
    "\tdef __init__(self,x,y):\n",
    "\t\tself.x = x\n",
    "\t\tself.y = y\n",
    "\n",
    "\tdef get_x(self): \t\n",
    "\t\tprint('through get_x()')\n",
    "\t\treturn self._x\n",
    "\tdef set_x(self, x): \n",
    "\t\tif x < 0:\n",
    "\t\t\tself._x = 0\n",
    "\t\telse:\n",
    "\t\t\tself._x = x\t\n",
    "\tdef get_y(self):\t\n",
    "\t\tprint('through get_y()')\n",
    "\t\treturn self._y\n",
    "\tdef set_y(self, y):\t\n",
    "\t\tself._y = y\t\n",
    "\n",
    "\tx = property(get_x, set_x)\n",
    "\ty = property(get_y, set_y)\n",
    "\n",
    "p1 = Point(50, 50)\n",
    "# print (p1._Point__x, p1._Point__y)\n",
    "print (p1.get_x(), p1.get_y())\n",
    "p1.x = -10 \t## Whenever x is accessed, automatically set_x() is called. \n",
    "print (p1._x, p1.y)\n",
    "\n",
    "# can be accessed _x directly without setter.\n",
    "p1._x = -20\n",
    "print (p1._x)\n",
    "# print (p1._Point_x, p1.y)\n",
    "print (p1.x, p1.y)"
   ]
  },
  {
   "cell_type": "markdown",
   "metadata": {},
   "source": [
    "## <mark style=\"background-color:#F9B963; color:white\"> Double Leading Underscore Attribute </mark>"
   ]
  },
  {
   "cell_type": "code",
   "execution_count": 116,
   "metadata": {},
   "outputs": [
    {
     "name": "stdout",
     "output_type": "stream",
     "text": [
      "through get_x()\n",
      "through get_y()\n",
      "50 50\n",
      "through get_y()\n",
      "0 50\n"
     ]
    }
   ],
   "source": [
    "\n",
    "class Point:\n",
    "\tdef __init__(self,x,y):\n",
    "\t\tself.x = x\n",
    "\t\tself.y = y\n",
    "\n",
    "\tdef get_x(self): \t# getter for x \n",
    "\t\tprint('through get_x()')\n",
    "\t\treturn self.__x\n",
    "\tdef set_x(self, x): \t# setter for x\n",
    "\t\tif x < 0:\n",
    "\t\t\tself.__x = 0\n",
    "\t\telse:\n",
    "\t\t\tself.__x = x\t\n",
    "\tdef get_y(self):\t# getter for y\n",
    "\t\tprint('through get_y()')\n",
    "\t\treturn self.__y\n",
    "\tdef set_y(self, y):\t# setter for y\n",
    "\t\tself.__y = y\t\n",
    "\n",
    "\tx = property(get_x, set_x)\n",
    "\ty = property(get_y, set_y)\n",
    "\n",
    "p1 = Point(50, 50)\n",
    "# print (p1._Point__x, p1._Point__y)\n",
    "print (p1.get_x(), p1.get_y())\n",
    "p1.x = -10 \t## Whenever y is accessed, automatically set_y() is called. \n",
    "# print (p1._x, p1.y)\n",
    "print (p1._Point__x, p1.y)"
   ]
  },
  {
   "cell_type": "markdown",
   "metadata": {},
   "source": [
    "## <mark style=\"background-color:#008a20; color:white\"> Without Property </mark>"
   ]
  },
  {
   "cell_type": "code",
   "execution_count": 3,
   "metadata": {},
   "outputs": [
    {
     "name": "stdout",
     "output_type": "stream",
     "text": [
      "Through get_x()\n",
      "Through get_y()\n",
      "50 50\n",
      "-10 20\n",
      "-10 20\n",
      "100 200\n"
     ]
    }
   ],
   "source": [
    "\n",
    "class Point:\n",
    "\tdef __init__(self,x,y):\n",
    "\t\tself._x = x\n",
    "\t\tself._y = y\n",
    "\n",
    "\tdef get_x(self): \t# getter for x \n",
    "\t\tprint ('Through get_x()')\t# getter for y\n",
    "\t\treturn self._x\n",
    "\tdef set_x(self, x): \t# setter for x\n",
    "\t\tif x < 0:\n",
    "\t\t\tself._x = 0 \n",
    "\t\telse:\n",
    "\t\t\tself._x = x\t\n",
    "\tdef get_y(self):\n",
    "\t\tprint ('Through get_y()')\t# getter for y\n",
    "\t\treturn self._y\n",
    "\tdef set_y(self, y):\t# setter for y\n",
    "\t\tself._y = y\t\n",
    "\n",
    "\t# x = property(get_x, set_x)\n",
    "\t# y = property(get_y, set_y)\n",
    "\n",
    "p1 = Point(50, 50)\n",
    "# print (p1._Point__x, p1._Point__y)\n",
    "print (p1.get_x(), p1.get_y())\n",
    "p1._x = -10 ; p1._y = 20\n",
    "print (p1._x, p1._y)\n",
    "\n",
    "p1.x = 100; p1.y = 200\n",
    "print (p1._x, p1._y)\n",
    "print (p1.x, p1.y)\n"
   ]
  },
  {
   "cell_type": "markdown",
   "metadata": {},
   "source": [
    "## <mark style=\"background-color:#008a20; color:white\"> Store the function in a variable</mark>"
   ]
  },
  {
   "cell_type": "code",
   "execution_count": 100,
   "metadata": {},
   "outputs": [
    {
     "name": "stdout",
     "output_type": "stream",
     "text": [
      "30\n"
     ]
    }
   ],
   "source": [
    "\n",
    "def addTwo(x, y):\n",
    "\treturn x+y\n",
    "\n",
    "sumTwo = addTwo\n",
    "print (sumTwo(10, 20))"
   ]
  },
  {
   "cell_type": "markdown",
   "metadata": {},
   "source": [
    "## <mark style=\"background-color:#008a20; color:white\"> Pass a function as a parameter </mark>"
   ]
  },
  {
   "cell_type": "code",
   "execution_count": 101,
   "metadata": {},
   "outputs": [
    {
     "name": "stdout",
     "output_type": "stream",
     "text": [
      "30\n"
     ]
    }
   ],
   "source": [
    "def flex_adder(x):\n",
    "\tdef inner_adder(y):\n",
    "\t\treturn x+y\n",
    "\treturn inner_adder\n",
    "\n",
    "myadder10 = flex_adder(10)\n",
    "\n",
    "print (myadder10(20))     \t # 30\n"
   ]
  },
  {
   "cell_type": "markdown",
   "metadata": {},
   "source": [
    "# <mark style=\"background-color:#008a20; color:white\"> Decorator Example: Factorial</mark>\n",
    "<img src =\"https://nimbus-screenshots.s3.amazonaws.com/s/80279168aca5fbec7c5bd034c7efc7a0.png\">"
   ]
  },
  {
   "cell_type": "code",
   "execution_count": 113,
   "metadata": {},
   "outputs": [
    {
     "name": "stdout",
     "output_type": "stream",
     "text": [
      "362880\n",
      "Elappsed time 1.9073486328125e-06\n",
      "362880\n"
     ]
    }
   ],
   "source": [
    "import time\n",
    "\n",
    "def factorial(num):\n",
    "\tfact = 1\n",
    "\tfor i in range(1,num):\n",
    "\t\tfact *= i\n",
    "\treturn fact\n",
    "\n",
    "\n",
    "def deco_fact(func):\n",
    "\t# def inner_wrapper(*args, **kwargs):\n",
    "\tdef inner_wrapper(val):\n",
    "\t\tbegin = time.time()\n",
    "\t\t# ret = func(*args, **kwargs)\n",
    "\t\tret = func(val)\n",
    "\t\tend = time.time()\n",
    "\t\tprint ('Elappsed time',end-begin)\n",
    "\t\treturn ret\n",
    "\treturn inner_wrapper\n",
    "\n",
    "\n",
    "print (factorial(10))\n",
    "wr_fact = deco_fact(factorial)\n",
    "print (wr_fact(10))\n"
   ]
  },
  {
   "cell_type": "markdown",
   "metadata": {},
   "source": [
    "## <mark style=\"background-color:#008a20; color:white\"> @Decorator </mark>"
   ]
  },
  {
   "cell_type": "code",
   "execution_count": 114,
   "metadata": {},
   "outputs": [
    {
     "name": "stdout",
     "output_type": "stream",
     "text": [
      "Elappsed time 9.059906005859375e-06\n",
      "362880\n"
     ]
    }
   ],
   "source": [
    "import time\n",
    "\n",
    "\n",
    "def deco_fact(func):\n",
    "\t# def inner_wrapper(*args, **kwargs):\n",
    "\tdef inner_wrapper(val):\n",
    "\t\tbegin = time.time()\n",
    "\t\t# ret = func(*args, **kwargs)\n",
    "\t\tret = func(val)\n",
    "\t\tend = time.time()\n",
    "\t\tprint ('Elappsed time',end-begin)\n",
    "\t\treturn ret\n",
    "\treturn inner_wrapper\n",
    "\n",
    "@deco_fact\n",
    "def factorial(num):\n",
    "\tfact = 1\n",
    "\tfor i in range(1,num):\n",
    "\t\tfact *= i\n",
    "\treturn fact\n",
    "\n",
    "\n",
    "print (factorial(10))\n"
   ]
  },
  {
   "cell_type": "markdown",
   "metadata": {},
   "source": [
    "# <mark style=\"background-color:#008a20; color:white\"> @property </mark>"
   ]
  },
  {
   "cell_type": "code",
   "execution_count": 169,
   "metadata": {},
   "outputs": [
    {
     "name": "stdout",
     "output_type": "stream",
     "text": [
      "called x setter\n",
      "through get_x()\n",
      "through get_y()\n",
      "0 10\n",
      "through get_x()\n",
      "through get_y()\n",
      "-10 10\n",
      "-10 10\n"
     ]
    }
   ],
   "source": [
    "\n",
    "class Point:\n",
    "\tdef __init__(self,x,y):\n",
    "\t\tself._x = x\n",
    "\t\tself._y = y\n",
    "\n",
    "\t@property\n",
    "\tdef x(self):       \n",
    "\t\tprint('through get_x()')\n",
    "\t\treturn self._x\n",
    "\n",
    "\t@x.setter\n",
    "\tdef x(self, x):\n",
    "\t\tprint ('called x setter')\n",
    "\t\tif x < 0:\n",
    "\t\t\tself._x = 0\n",
    "\t\telse:\n",
    "\t\t\tself._x = x    \n",
    "\t@property\n",
    "\tdef y(self):       \n",
    "\t\tprint('through get_y()')\n",
    "\t\treturn self._y\n",
    "\t@y.setter\n",
    "\tdef y(self, y):    \n",
    "\t\tprint ('called y setter')\n",
    "\t\tself._y = y    \n",
    "\n",
    "\t# x = property(get_x, set_x)\n",
    "\t# y = property(get_y, set_y)\n",
    "\n",
    "p1 = Point(10, 10)\n",
    "\n",
    "p1.x = -10\n",
    "print(p1.x, p1.y)\n",
    "p1._x = -10\n",
    "print(p1.x, p1.y)\n",
    "print(p1._x, p1._y)\n",
    "\n",
    "\n"
   ]
  },
  {
   "cell_type": "markdown",
   "metadata": {},
   "source": [
    "# <mark style=\"background-color:#008a20; color:white\"> Class Attribute Example</mark>"
   ]
  },
  {
   "cell_type": "code",
   "execution_count": 175,
   "metadata": {},
   "outputs": [
    {
     "name": "stdout",
     "output_type": "stream",
     "text": [
      "2\n",
      "2\n"
     ]
    }
   ],
   "source": [
    "class Student:\n",
    "\n",
    "\tnumofStudent = 0\n",
    "\n",
    "\tdef __init__(self, id, name):\n",
    "\t\tself.id = id\n",
    "\t\tself.name = name\n",
    "\t\tStudent.numofStudent = Student.numofStudent + 1\n",
    "\n",
    "\t@property\n",
    "\tdef id(self):\n",
    "\t\treturn self._id\n",
    "\t@id.setter\n",
    "\tdef id(self, id):\n",
    "\t\tself._id = id \n",
    "\t@property\n",
    "\tdef name(self):\n",
    "\t\treturn self._name\n",
    "\t@name.setter\n",
    "\tdef name(self, name):\n",
    "\t\tself._name = name \n",
    "\n",
    "s1 = Student(1001, 'John')\n",
    "s2 = Student(1002, 'Kay') \n",
    "\n",
    "print (Student.numofStudent)\n",
    "print (s2.numofStudent)\n"
   ]
  },
  {
   "cell_type": "markdown",
   "metadata": {},
   "source": [
    "# <mark style=\"background-color:#008a20; color:white\"> __str__method()</mark>"
   ]
  },
  {
   "cell_type": "code",
   "execution_count": 179,
   "metadata": {},
   "outputs": [
    {
     "name": "stdout",
     "output_type": "stream",
     "text": [
      "Name:      Sarah, Age:         26\n"
     ]
    }
   ],
   "source": [
    "class Person:\n",
    "   def __init__(self):\n",
    "       self._name = 'Sarah'\n",
    "       self._age = 26\n",
    "   def __str__(self):\n",
    "        return f'Name: {self._name:>10}, Age: {self._age:>10}'\n",
    "\n",
    "\n",
    "p = Person()\n",
    "\n",
    "print (p)\n",
    "\n"
   ]
  },
  {
   "cell_type": "markdown",
   "metadata": {},
   "source": [
    "# <mark style=\"background-color:#008a20; color:white\"> __ lt __()</mark>"
   ]
  },
  {
   "cell_type": "code",
   "execution_count": 183,
   "metadata": {},
   "outputs": [
    {
     "name": "stdout",
     "output_type": "stream",
     "text": [
      "Name:        Kay, Age:         25\n",
      "Name:        Kyu, Age:         30\n",
      "p1 is less than p2\n"
     ]
    }
   ],
   "source": [
    "class Person:\n",
    "   def __init__(self, name, age):\n",
    "       self._name = name \n",
    "       self._age = age\n",
    "   def __str__(self):\n",
    "        return f'Name: {self._name:>10}, Age: {self._age:>10}'\n",
    "   def __lt__(self, other):\n",
    "       if self._age < other._age:\n",
    "           return True\n",
    "       else:\n",
    "           return False\n",
    "\n",
    "\n",
    "p1 = Person('Kay', 25)\n",
    "p2 = Person('Kyu', 30)\n",
    "\n",
    "print (p1)\n",
    "print (p2)\n",
    "\n",
    "if p1 < p2:\n",
    "\tprint ('p1 is less than p2')\n",
    "else:\n",
    "\tprint ('p1 is greater than p2')\n",
    "\n",
    "\n"
   ]
  },
  {
   "cell_type": "markdown",
   "metadata": {},
   "source": [
    "# <mark style=\"background-color:#008a20; color:white\"> Inheritance </mark>"
   ]
  },
  {
   "cell_type": "code",
   "execution_count": 189,
   "metadata": {},
   "outputs": [
    {
     "name": "stdout",
     "output_type": "stream",
     "text": [
      "100\n",
      "40\n"
     ]
    }
   ],
   "source": [
    "\n",
    "class Rectangle:\n",
    "\tdef __init__(self, w, h):\n",
    "\t\tself.width = w\n",
    "\t\tself.height = h\n",
    "\n",
    "\t@property\n",
    "\tdef width(self):\n",
    "\t\treturn self._width\n",
    "\n",
    "\t@width.setter\n",
    "\tdef width(self, w):\n",
    "\t\tself._width = w\n",
    "\n",
    "\t@property\n",
    "\tdef height(self):\n",
    "\t\treturn self._height\n",
    "\n",
    "\t@height.setter\n",
    "\tdef height(self, h):\n",
    "\t\tself._height = h\n",
    "\n",
    "\n",
    "\tdef area(self):\n",
    "\t\treturn self._height * self._width\n",
    "\n",
    "\tdef perimeter(self):\n",
    "\t\treturn self._height * 2 + self._width * 2\n",
    "\n",
    "\n",
    "class Square(Rectangle):\n",
    "\tdef __init__(self, w):\n",
    "\t\tRectangle.__init__(self, w, w)\n",
    "\n",
    "\n",
    "c = Square(10)\n",
    "print (c.area())\n",
    "print (c.perimeter())"
   ]
  },
  {
   "cell_type": "markdown",
   "metadata": {},
   "source": [
    "# <mark style=\"background-color:#008a20; color:white\"> Overriding </mark>"
   ]
  },
  {
   "cell_type": "code",
   "execution_count": 190,
   "metadata": {},
   "outputs": [
    {
     "name": "stdout",
     "output_type": "stream",
     "text": [
      "Rectangle Information. Width 10        \n"
     ]
    }
   ],
   "source": [
    "\n",
    "class Rectangle:\n",
    "\tdef __init__(self, w, h):\n",
    "\t\tself.width = w\n",
    "\t\tself.height = h\n",
    "\n",
    "\t@property\n",
    "\tdef width(self):\n",
    "\t\treturn self._width\n",
    "\n",
    "\t@width.setter\n",
    "\tdef width(self, w):\n",
    "\t\tself._width = w\n",
    "\n",
    "\t@property\n",
    "\tdef height(self):\n",
    "\t\treturn self._height\n",
    "\n",
    "\t@height.setter\n",
    "\tdef height(self, h):\n",
    "\t\tself._height = h\n",
    "\n",
    "\n",
    "\tdef area(self):\n",
    "\t\treturn self._height * self._width\n",
    "\n",
    "\tdef perimeter(self):\n",
    "\t\treturn self._height * 2 + self._width * 2\n",
    "\n",
    "\tdef print_info(self):\n",
    "\t\tprint (f'Rectangle Information. Width {self._width:<10}, Height: {self._height:<10}')\n",
    "\n",
    "\n",
    "class Square(Rectangle):\n",
    "\tdef __init__(self, w):\n",
    "\t\tRectangle.__init__(self, w, w)\n",
    "\tdef print_info(self):\n",
    "\t\tprint (f'Rectangle Information. Width {self._width:<10}')\n",
    "\n",
    "\n",
    "s = Square(10)\n",
    "\n",
    "s.print_info()\n"
   ]
  }
 ],
 "metadata": {
  "kernelspec": {
   "display_name": "Python 3.9.7 ('base')",
   "language": "python",
   "name": "python3"
  },
  "language_info": {
   "codemirror_mode": {
    "name": "ipython",
    "version": 3
   },
   "file_extension": ".py",
   "mimetype": "text/x-python",
   "name": "python",
   "nbconvert_exporter": "python",
   "pygments_lexer": "ipython3",
   "version": "3.9.7"
  },
  "orig_nbformat": 4,
  "vscode": {
   "interpreter": {
    "hash": "a614fddea9d37e019a720cc724ab725ff28be4e0e64e91a691a8738e1909110d"
   }
  }
 },
 "nbformat": 4,
 "nbformat_minor": 2
}
